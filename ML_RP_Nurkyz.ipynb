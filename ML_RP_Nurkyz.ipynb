{
 "cells": [
  {
   "cell_type": "markdown",
   "id": "bizarre-greeting",
   "metadata": {},
   "source": [
    "# Research question\n",
    "The scope of this research is to solve HR-related problems in a multinational corporation, more precisely, to predict the employee promotion potential. The difficulty of the company is recognizing the right person for promotion and prepare them in time. The thing is that the company can announce the promotions only after conducting the evaluation of employees, which causes impediments in the transition of new positions. Consequently, the company lacks guidance in identifying suitable candidates at a particular checkpoint to facilitate the entire promotion period. This study examines the effects of age, education level, gender, department, number of average training scores, and awards won by an employee, recruitment channel on the probability of getting promoted. \n",
    "\n",
    "\n",
    "Please visit my github account for the data and codes. https://github.com/nurkyzbazarkulova/ML_Research_Proposal"
   ]
  },
  {
   "cell_type": "markdown",
   "id": "formal-storage",
   "metadata": {},
   "source": [
    "# Data\n",
    "Various data can be analyzed in this study. This study mainly focuses on the dataset \"HR Analytics: Employee Promotion Data\" available on Kaggle.com (https://www.kaggle.com/arashnic/hr-ana)."
   ]
  },
  {
   "cell_type": "markdown",
   "id": "virgin-premiere",
   "metadata": {},
   "source": [
    "For doing the analysis, first, I install the necessary packages in R."
   ]
  },
  {
   "cell_type": "code",
   "execution_count": 212,
   "id": "usual-slovakia",
   "metadata": {},
   "outputs": [],
   "source": [
    "#libraries\n",
    "library(corrplot)\n",
    "library(GGally)\n",
    "library(stargazer)\n",
    "library(caTools)\n",
    "library(AER)\n",
    "library(dummies)\n",
    "#install.packages(\"ROCR\")\n",
    "library(ROCR)\n",
    "#install.packages(\"PerformanceAnalytics\")\n",
    "library(PerformanceAnalytics)\n",
    "library(caret)\n",
    "#install.packages('rpart')\n",
    "library(rpart)\n",
    "#install.packages('ROSE')\n",
    "library(ROSE)\n",
    "#install.packages('randomForest')\n",
    "library(randomForest)"
   ]
  },
  {
   "cell_type": "markdown",
   "id": "cleared-trigger",
   "metadata": {},
   "source": [
    "As a second step, I set the working directory to import the dataset."
   ]
  },
  {
   "cell_type": "code",
   "execution_count": 2,
   "id": "russian-runner",
   "metadata": {},
   "outputs": [],
   "source": [
    "#Create your own working directly to read the dataset.\n",
    "setwd('C:/Users/Nurkyz/OneDrive/LMU/WiSe2020-2021/Machine Learning/Research proposal')"
   ]
  },
  {
   "cell_type": "markdown",
   "id": "korean-riverside",
   "metadata": {},
   "source": [
    "Read the dataset and start the data exploration. Data exploration helps to take a broader look at patterns, trends, summary, missing values in the current dataset."
   ]
  },
  {
   "cell_type": "code",
   "execution_count": 178,
   "id": "fifty-muslim",
   "metadata": {},
   "outputs": [],
   "source": [
    "#Read the data from the working directory.\n",
    "data <- read.csv('C:/Users/Nurkyz/OneDrive/LMU/WiSe2020-2021/Machine Learning/Research proposal/Promotion_dataset.csv',header=TRUE,sep=\",\")"
   ]
  },
  {
   "cell_type": "code",
   "execution_count": 179,
   "id": "intense-storage",
   "metadata": {},
   "outputs": [
    {
     "data": {
      "text/html": [
       "<table>\n",
       "<caption>A data.frame: 6 × 13</caption>\n",
       "<thead>\n",
       "\t<tr><th></th><th scope=col>employee_id</th><th scope=col>department</th><th scope=col>region</th><th scope=col>education</th><th scope=col>gender</th><th scope=col>recruitment_channel</th><th scope=col>no_of_trainings</th><th scope=col>age</th><th scope=col>previous_year_rating</th><th scope=col>length_of_service</th><th scope=col>awards_won.</th><th scope=col>avg_training_score</th><th scope=col>is_promoted</th></tr>\n",
       "\t<tr><th></th><th scope=col>&lt;int&gt;</th><th scope=col>&lt;fct&gt;</th><th scope=col>&lt;fct&gt;</th><th scope=col>&lt;fct&gt;</th><th scope=col>&lt;fct&gt;</th><th scope=col>&lt;fct&gt;</th><th scope=col>&lt;int&gt;</th><th scope=col>&lt;int&gt;</th><th scope=col>&lt;dbl&gt;</th><th scope=col>&lt;int&gt;</th><th scope=col>&lt;int&gt;</th><th scope=col>&lt;int&gt;</th><th scope=col>&lt;int&gt;</th></tr>\n",
       "</thead>\n",
       "<tbody>\n",
       "\t<tr><th scope=row>1</th><td>65438</td><td>Sales &amp; Marketing</td><td>region_7 </td><td>Master's &amp; above</td><td>f</td><td>sourcing</td><td>1</td><td>35</td><td>5</td><td> 8</td><td>0</td><td>49</td><td>0</td></tr>\n",
       "\t<tr><th scope=row>2</th><td>65141</td><td>Operations       </td><td>region_22</td><td>Bachelor's      </td><td>m</td><td>other   </td><td>1</td><td>30</td><td>5</td><td> 4</td><td>0</td><td>60</td><td>0</td></tr>\n",
       "\t<tr><th scope=row>3</th><td> 7513</td><td>Sales &amp; Marketing</td><td>region_19</td><td><span style=white-space:pre-wrap>Bachelor's      </span></td><td>m</td><td>sourcing</td><td>1</td><td>34</td><td>3</td><td> 7</td><td>0</td><td>50</td><td>0</td></tr>\n",
       "\t<tr><th scope=row>4</th><td> 2542</td><td>Sales &amp; Marketing</td><td>region_23</td><td><span style=white-space:pre-wrap>Bachelor's      </span></td><td>m</td><td><span style=white-space:pre-wrap>other   </span></td><td>2</td><td>39</td><td>1</td><td>10</td><td>0</td><td>50</td><td>0</td></tr>\n",
       "\t<tr><th scope=row>5</th><td>48945</td><td>Technology       </td><td>region_26</td><td>Bachelor's      </td><td>m</td><td>other   </td><td>1</td><td>45</td><td>3</td><td> 2</td><td>0</td><td>73</td><td>0</td></tr>\n",
       "\t<tr><th scope=row>6</th><td>58896</td><td>Analytics        </td><td>region_2 </td><td>Bachelor's      </td><td>m</td><td>sourcing</td><td>2</td><td>31</td><td>3</td><td> 7</td><td>0</td><td>85</td><td>0</td></tr>\n",
       "</tbody>\n",
       "</table>\n"
      ],
      "text/latex": [
       "A data.frame: 6 × 13\n",
       "\\begin{tabular}{r|lllllllllllll}\n",
       "  & employee\\_id & department & region & education & gender & recruitment\\_channel & no\\_of\\_trainings & age & previous\\_year\\_rating & length\\_of\\_service & awards\\_won. & avg\\_training\\_score & is\\_promoted\\\\\n",
       "  & <int> & <fct> & <fct> & <fct> & <fct> & <fct> & <int> & <int> & <dbl> & <int> & <int> & <int> & <int>\\\\\n",
       "\\hline\n",
       "\t1 & 65438 & Sales \\& Marketing & region\\_7  & Master's \\& above & f & sourcing & 1 & 35 & 5 &  8 & 0 & 49 & 0\\\\\n",
       "\t2 & 65141 & Operations        & region\\_22 & Bachelor's       & m & other    & 1 & 30 & 5 &  4 & 0 & 60 & 0\\\\\n",
       "\t3 &  7513 & Sales \\& Marketing & region\\_19 & Bachelor's       & m & sourcing & 1 & 34 & 3 &  7 & 0 & 50 & 0\\\\\n",
       "\t4 &  2542 & Sales \\& Marketing & region\\_23 & Bachelor's       & m & other    & 2 & 39 & 1 & 10 & 0 & 50 & 0\\\\\n",
       "\t5 & 48945 & Technology        & region\\_26 & Bachelor's       & m & other    & 1 & 45 & 3 &  2 & 0 & 73 & 0\\\\\n",
       "\t6 & 58896 & Analytics         & region\\_2  & Bachelor's       & m & sourcing & 2 & 31 & 3 &  7 & 0 & 85 & 0\\\\\n",
       "\\end{tabular}\n"
      ],
      "text/markdown": [
       "\n",
       "A data.frame: 6 × 13\n",
       "\n",
       "| <!--/--> | employee_id &lt;int&gt; | department &lt;fct&gt; | region &lt;fct&gt; | education &lt;fct&gt; | gender &lt;fct&gt; | recruitment_channel &lt;fct&gt; | no_of_trainings &lt;int&gt; | age &lt;int&gt; | previous_year_rating &lt;dbl&gt; | length_of_service &lt;int&gt; | awards_won. &lt;int&gt; | avg_training_score &lt;int&gt; | is_promoted &lt;int&gt; |\n",
       "|---|---|---|---|---|---|---|---|---|---|---|---|---|---|\n",
       "| 1 | 65438 | Sales &amp; Marketing | region_7  | Master's &amp; above | f | sourcing | 1 | 35 | 5 |  8 | 0 | 49 | 0 |\n",
       "| 2 | 65141 | Operations        | region_22 | Bachelor's       | m | other    | 1 | 30 | 5 |  4 | 0 | 60 | 0 |\n",
       "| 3 |  7513 | Sales &amp; Marketing | region_19 | Bachelor's       | m | sourcing | 1 | 34 | 3 |  7 | 0 | 50 | 0 |\n",
       "| 4 |  2542 | Sales &amp; Marketing | region_23 | Bachelor's       | m | other    | 2 | 39 | 1 | 10 | 0 | 50 | 0 |\n",
       "| 5 | 48945 | Technology        | region_26 | Bachelor's       | m | other    | 1 | 45 | 3 |  2 | 0 | 73 | 0 |\n",
       "| 6 | 58896 | Analytics         | region_2  | Bachelor's       | m | sourcing | 2 | 31 | 3 |  7 | 0 | 85 | 0 |\n",
       "\n"
      ],
      "text/plain": [
       "  employee_id department        region    education        gender\n",
       "1 65438       Sales & Marketing region_7  Master's & above f     \n",
       "2 65141       Operations        region_22 Bachelor's       m     \n",
       "3  7513       Sales & Marketing region_19 Bachelor's       m     \n",
       "4  2542       Sales & Marketing region_23 Bachelor's       m     \n",
       "5 48945       Technology        region_26 Bachelor's       m     \n",
       "6 58896       Analytics         region_2  Bachelor's       m     \n",
       "  recruitment_channel no_of_trainings age previous_year_rating\n",
       "1 sourcing            1               35  5                   \n",
       "2 other               1               30  5                   \n",
       "3 sourcing            1               34  3                   \n",
       "4 other               2               39  1                   \n",
       "5 other               1               45  3                   \n",
       "6 sourcing            2               31  3                   \n",
       "  length_of_service awards_won. avg_training_score is_promoted\n",
       "1  8                0           49                 0          \n",
       "2  4                0           60                 0          \n",
       "3  7                0           50                 0          \n",
       "4 10                0           50                 0          \n",
       "5  2                0           73                 0          \n",
       "6  7                0           85                 0          "
      ]
     },
     "metadata": {},
     "output_type": "display_data"
    }
   ],
   "source": [
    "# display top 6 rows of dataset to see how data looks like\n",
    "head(data)"
   ]
  },
  {
   "cell_type": "code",
   "execution_count": 180,
   "id": "prime-monkey",
   "metadata": {},
   "outputs": [
    {
     "data": {
      "text/html": [
       "<table>\n",
       "<caption>A data.frame: 6 × 13</caption>\n",
       "<thead>\n",
       "\t<tr><th></th><th scope=col>employee_id</th><th scope=col>department</th><th scope=col>region</th><th scope=col>education</th><th scope=col>gender</th><th scope=col>recruitment_channel</th><th scope=col>no_of_trainings</th><th scope=col>age</th><th scope=col>previous_year_rating</th><th scope=col>length_of_service</th><th scope=col>awards_won.</th><th scope=col>avg_training_score</th><th scope=col>is_promoted</th></tr>\n",
       "\t<tr><th></th><th scope=col>&lt;int&gt;</th><th scope=col>&lt;fct&gt;</th><th scope=col>&lt;fct&gt;</th><th scope=col>&lt;fct&gt;</th><th scope=col>&lt;fct&gt;</th><th scope=col>&lt;fct&gt;</th><th scope=col>&lt;int&gt;</th><th scope=col>&lt;int&gt;</th><th scope=col>&lt;dbl&gt;</th><th scope=col>&lt;int&gt;</th><th scope=col>&lt;int&gt;</th><th scope=col>&lt;int&gt;</th><th scope=col>&lt;int&gt;</th></tr>\n",
       "</thead>\n",
       "<tbody>\n",
       "\t<tr><th scope=row>54803</th><td> 6915</td><td>Sales &amp; Marketing</td><td>region_14</td><td><span style=white-space:pre-wrap>Bachelor's      </span></td><td>m</td><td><span style=white-space:pre-wrap>other   </span></td><td>2</td><td>31</td><td>1</td><td> 2</td><td>0</td><td>49</td><td>0</td></tr>\n",
       "\t<tr><th scope=row>54804</th><td> 3030</td><td>Technology       </td><td>region_14</td><td>Bachelor's      </td><td>m</td><td>sourcing</td><td>1</td><td>48</td><td>3</td><td>17</td><td>0</td><td>78</td><td>0</td></tr>\n",
       "\t<tr><th scope=row>54805</th><td>74592</td><td><span style=white-space:pre-wrap>Operations       </span></td><td>region_27</td><td>Master's &amp; above</td><td>f</td><td><span style=white-space:pre-wrap>other   </span></td><td>1</td><td>37</td><td>2</td><td> 6</td><td>0</td><td>56</td><td>0</td></tr>\n",
       "\t<tr><th scope=row>54806</th><td>13918</td><td>Analytics        </td><td>region_1 </td><td>Bachelor's      </td><td>m</td><td>other   </td><td>1</td><td>27</td><td>5</td><td> 3</td><td>0</td><td>79</td><td>0</td></tr>\n",
       "\t<tr><th scope=row>54807</th><td>13614</td><td>Sales &amp; Marketing</td><td>region_9 </td><td><span style=white-space:pre-wrap>                </span></td><td>m</td><td>sourcing</td><td>1</td><td>29</td><td>1</td><td> 2</td><td>0</td><td>45</td><td>0</td></tr>\n",
       "\t<tr><th scope=row>54808</th><td>51526</td><td>HR               </td><td>region_22</td><td>Bachelor's      </td><td>m</td><td>other   </td><td>1</td><td>27</td><td>1</td><td> 5</td><td>0</td><td>49</td><td>0</td></tr>\n",
       "</tbody>\n",
       "</table>\n"
      ],
      "text/latex": [
       "A data.frame: 6 × 13\n",
       "\\begin{tabular}{r|lllllllllllll}\n",
       "  & employee\\_id & department & region & education & gender & recruitment\\_channel & no\\_of\\_trainings & age & previous\\_year\\_rating & length\\_of\\_service & awards\\_won. & avg\\_training\\_score & is\\_promoted\\\\\n",
       "  & <int> & <fct> & <fct> & <fct> & <fct> & <fct> & <int> & <int> & <dbl> & <int> & <int> & <int> & <int>\\\\\n",
       "\\hline\n",
       "\t54803 &  6915 & Sales \\& Marketing & region\\_14 & Bachelor's       & m & other    & 2 & 31 & 1 &  2 & 0 & 49 & 0\\\\\n",
       "\t54804 &  3030 & Technology        & region\\_14 & Bachelor's       & m & sourcing & 1 & 48 & 3 & 17 & 0 & 78 & 0\\\\\n",
       "\t54805 & 74592 & Operations        & region\\_27 & Master's \\& above & f & other    & 1 & 37 & 2 &  6 & 0 & 56 & 0\\\\\n",
       "\t54806 & 13918 & Analytics         & region\\_1  & Bachelor's       & m & other    & 1 & 27 & 5 &  3 & 0 & 79 & 0\\\\\n",
       "\t54807 & 13614 & Sales \\& Marketing & region\\_9  &                  & m & sourcing & 1 & 29 & 1 &  2 & 0 & 45 & 0\\\\\n",
       "\t54808 & 51526 & HR                & region\\_22 & Bachelor's       & m & other    & 1 & 27 & 1 &  5 & 0 & 49 & 0\\\\\n",
       "\\end{tabular}\n"
      ],
      "text/markdown": [
       "\n",
       "A data.frame: 6 × 13\n",
       "\n",
       "| <!--/--> | employee_id &lt;int&gt; | department &lt;fct&gt; | region &lt;fct&gt; | education &lt;fct&gt; | gender &lt;fct&gt; | recruitment_channel &lt;fct&gt; | no_of_trainings &lt;int&gt; | age &lt;int&gt; | previous_year_rating &lt;dbl&gt; | length_of_service &lt;int&gt; | awards_won. &lt;int&gt; | avg_training_score &lt;int&gt; | is_promoted &lt;int&gt; |\n",
       "|---|---|---|---|---|---|---|---|---|---|---|---|---|---|\n",
       "| 54803 |  6915 | Sales &amp; Marketing | region_14 | Bachelor's       | m | other    | 2 | 31 | 1 |  2 | 0 | 49 | 0 |\n",
       "| 54804 |  3030 | Technology        | region_14 | Bachelor's       | m | sourcing | 1 | 48 | 3 | 17 | 0 | 78 | 0 |\n",
       "| 54805 | 74592 | Operations        | region_27 | Master's &amp; above | f | other    | 1 | 37 | 2 |  6 | 0 | 56 | 0 |\n",
       "| 54806 | 13918 | Analytics         | region_1  | Bachelor's       | m | other    | 1 | 27 | 5 |  3 | 0 | 79 | 0 |\n",
       "| 54807 | 13614 | Sales &amp; Marketing | region_9  | <!----> | m | sourcing | 1 | 29 | 1 |  2 | 0 | 45 | 0 |\n",
       "| 54808 | 51526 | HR                | region_22 | Bachelor's       | m | other    | 1 | 27 | 1 |  5 | 0 | 49 | 0 |\n",
       "\n"
      ],
      "text/plain": [
       "      employee_id department        region    education        gender\n",
       "54803  6915       Sales & Marketing region_14 Bachelor's       m     \n",
       "54804  3030       Technology        region_14 Bachelor's       m     \n",
       "54805 74592       Operations        region_27 Master's & above f     \n",
       "54806 13918       Analytics         region_1  Bachelor's       m     \n",
       "54807 13614       Sales & Marketing region_9                   m     \n",
       "54808 51526       HR                region_22 Bachelor's       m     \n",
       "      recruitment_channel no_of_trainings age previous_year_rating\n",
       "54803 other               2               31  1                   \n",
       "54804 sourcing            1               48  3                   \n",
       "54805 other               1               37  2                   \n",
       "54806 other               1               27  5                   \n",
       "54807 sourcing            1               29  1                   \n",
       "54808 other               1               27  1                   \n",
       "      length_of_service awards_won. avg_training_score is_promoted\n",
       "54803  2                0           49                 0          \n",
       "54804 17                0           78                 0          \n",
       "54805  6                0           56                 0          \n",
       "54806  3                0           79                 0          \n",
       "54807  2                0           45                 0          \n",
       "54808  5                0           49                 0          "
      ]
     },
     "metadata": {},
     "output_type": "display_data"
    }
   ],
   "source": [
    "# display bottom 6 rows to see what data looks like\n",
    "tail(data)"
   ]
  },
  {
   "cell_type": "markdown",
   "id": "outstanding-energy",
   "metadata": {},
   "source": [
    "Describe the data structure, and it displays the data type of each variable present in the data, like whether that particular variable is numeric, factor, etc."
   ]
  },
  {
   "cell_type": "code",
   "execution_count": 181,
   "id": "utility-columbus",
   "metadata": {
    "scrolled": true
   },
   "outputs": [
    {
     "name": "stdout",
     "output_type": "stream",
     "text": [
      "'data.frame':\t54808 obs. of  13 variables:\n",
      " $ employee_id         : int  65438 65141 7513 2542 48945 58896 20379 16290 73202 28911 ...\n",
      " $ department          : Factor w/ 9 levels \"Analytics\",\"Finance\",..: 8 5 8 8 9 1 5 5 1 8 ...\n",
      " $ region              : Factor w/ 34 levels \"region_1\",\"region_10\",..: 32 15 11 16 19 12 13 28 13 1 ...\n",
      " $ education           : Factor w/ 4 levels \"\",\"Bachelor's\",..: 4 2 2 2 2 2 2 4 2 4 ...\n",
      " $ gender              : Factor w/ 2 levels \"f\",\"m\": 1 2 2 2 2 2 1 2 2 2 ...\n",
      " $ recruitment_channel : Factor w/ 3 levels \"other\",\"referred\",..: 3 1 3 1 1 3 1 3 1 3 ...\n",
      " $ no_of_trainings     : int  1 1 1 2 1 2 1 1 1 1 ...\n",
      " $ age                 : int  35 30 34 39 45 31 31 33 28 32 ...\n",
      " $ previous_year_rating: num  5 5 3 1 3 3 3 3 4 5 ...\n",
      " $ length_of_service   : int  8 4 7 10 2 7 5 6 5 5 ...\n",
      " $ awards_won.         : int  0 0 0 0 0 0 0 0 0 0 ...\n",
      " $ avg_training_score  : int  49 60 50 50 73 85 59 63 83 54 ...\n",
      " $ is_promoted         : int  0 0 0 0 0 0 0 0 0 0 ...\n"
     ]
    }
   ],
   "source": [
    "# Get to know the structure of your dataset\n",
    "str(data)"
   ]
  },
  {
   "cell_type": "markdown",
   "id": "attractive-package",
   "metadata": {},
   "source": [
    "The dataset consists of 54808 observations and 13 variables:\n",
    "* employee_id : unique id of each employee\n",
    "<br><b>Independent variables:</b> </br>\n",
    "* department: a categorical variable that indicates the department of the employee belongs. Consists of:\n",
    " - Sales & Marketing\n",
    " - Operations\n",
    " - Procurement\n",
    " - Technology\n",
    " - Analytics\n",
    " - Finance\n",
    " - Legal\n",
    " - HR\n",
    " - R&D\n",
    "* region: a categorical variable indicating the region of employment with 34 different levels.\n",
    "* education : a categorical variable indicating the education level of the employee:\n",
    "- Bachelor's \n",
    "- Master's & above\n",
    "* gender: gender of the employee \n",
    " - Male\n",
    " - Female\n",
    "* recruitment_channel: a categorical variable indicating the recruitment channel of an employee:\n",
    " - sourcing\n",
    " - referred\n",
    " - other\n",
    "* no_of_trainings: an integer variable indicating the number of training completed in the previous year on soft skills, technical skills, and so on.\n",
    "* age: an integer variable indicating the age of an employee\n",
    "* previous_year_rating: a numerical variable indicating the rating of the employee for the previous year\n",
    "* length_of_service: an numerical variable indicating the rating of the employee for the previous year\n",
    "* awards_won: a binary variable equals one if an employee won the award during the last year, otherwise equals 0.\n",
    "* avg_training_score: integer variable indicating the average score in current training evaluation\n",
    "<br><b>Dependent variable:</b> </br>\n",
    "<br><b> is_promoted </b></br> : a binary variable which equals one if the employee is recommended for a promotion, otherwise equals 0."
   ]
  },
  {
   "cell_type": "code",
   "execution_count": 182,
   "id": "occasional-albania",
   "metadata": {},
   "outputs": [
    {
     "data": {
      "text/html": [
       "<style>\n",
       ".list-inline {list-style: none; margin:0; padding: 0}\n",
       ".list-inline>li {display: inline-block}\n",
       ".list-inline>li:not(:last-child)::after {content: \"\\00b7\"; padding: 0 .5ex}\n",
       "</style>\n",
       "<ol class=list-inline><li>'employee_id'</li><li>'department'</li><li>'region'</li><li>'education'</li><li>'gender'</li><li>'recruitment_channel'</li><li>'no_of_trainings'</li><li>'age'</li><li>'previous_year_rating'</li><li>'length_of_service'</li><li>'awards_won.'</li><li>'avg_training_score'</li><li>'is_promoted'</li></ol>\n"
      ],
      "text/latex": [
       "\\begin{enumerate*}\n",
       "\\item 'employee\\_id'\n",
       "\\item 'department'\n",
       "\\item 'region'\n",
       "\\item 'education'\n",
       "\\item 'gender'\n",
       "\\item 'recruitment\\_channel'\n",
       "\\item 'no\\_of\\_trainings'\n",
       "\\item 'age'\n",
       "\\item 'previous\\_year\\_rating'\n",
       "\\item 'length\\_of\\_service'\n",
       "\\item 'awards\\_won.'\n",
       "\\item 'avg\\_training\\_score'\n",
       "\\item 'is\\_promoted'\n",
       "\\end{enumerate*}\n"
      ],
      "text/markdown": [
       "1. 'employee_id'\n",
       "2. 'department'\n",
       "3. 'region'\n",
       "4. 'education'\n",
       "5. 'gender'\n",
       "6. 'recruitment_channel'\n",
       "7. 'no_of_trainings'\n",
       "8. 'age'\n",
       "9. 'previous_year_rating'\n",
       "10. 'length_of_service'\n",
       "11. 'awards_won.'\n",
       "12. 'avg_training_score'\n",
       "13. 'is_promoted'\n",
       "\n",
       "\n"
      ],
      "text/plain": [
       " [1] \"employee_id\"          \"department\"           \"region\"              \n",
       " [4] \"education\"            \"gender\"               \"recruitment_channel\" \n",
       " [7] \"no_of_trainings\"      \"age\"                  \"previous_year_rating\"\n",
       "[10] \"length_of_service\"    \"awards_won.\"          \"avg_training_score\"  \n",
       "[13] \"is_promoted\"         "
      ]
     },
     "metadata": {},
     "output_type": "display_data"
    }
   ],
   "source": [
    "#display the column name of the data\n",
    "names(data)"
   ]
  },
  {
   "cell_type": "code",
   "execution_count": 183,
   "id": "fourth-vietnam",
   "metadata": {
    "scrolled": false
   },
   "outputs": [
    {
     "data": {
      "text/plain": [
       "  employee_id                department          region     \n",
       " Min.   :    1   Sales & Marketing:16840   region_2 :12343  \n",
       " 1st Qu.:19670   Operations       :11348   region_22: 6428  \n",
       " Median :39226   Procurement      : 7138   region_7 : 4843  \n",
       " Mean   :39196   Technology       : 7138   region_15: 2808  \n",
       " 3rd Qu.:58731   Analytics        : 5352   region_13: 2648  \n",
       " Max.   :78298   Finance          : 2536   region_26: 2260  \n",
       "                 (Other)          : 4456   (Other)  :23478  \n",
       "            education     gender    recruitment_channel no_of_trainings \n",
       "                 : 2409   f:16312   other   :30446      Min.   : 1.000  \n",
       " Bachelor's      :36669   m:38496   referred: 1142      1st Qu.: 1.000  \n",
       " Below Secondary :  805             sourcing:23220      Median : 1.000  \n",
       " Master's & above:14925                                 Mean   : 1.253  \n",
       "                                                        3rd Qu.: 1.000  \n",
       "                                                        Max.   :10.000  \n",
       "                                                                        \n",
       "      age       previous_year_rating length_of_service  awards_won.     \n",
       " Min.   :20.0   Min.   :1.000        Min.   : 1.000    Min.   :0.00000  \n",
       " 1st Qu.:29.0   1st Qu.:3.000        1st Qu.: 3.000    1st Qu.:0.00000  \n",
       " Median :33.0   Median :3.000        Median : 5.000    Median :0.00000  \n",
       " Mean   :34.8   Mean   :3.329        Mean   : 5.866    Mean   :0.02317  \n",
       " 3rd Qu.:39.0   3rd Qu.:4.000        3rd Qu.: 7.000    3rd Qu.:0.00000  \n",
       " Max.   :60.0   Max.   :5.000        Max.   :37.000    Max.   :1.00000  \n",
       "                NA's   :4124                                            \n",
       " avg_training_score  is_promoted     \n",
       " Min.   :39.00      Min.   :0.00000  \n",
       " 1st Qu.:51.00      1st Qu.:0.00000  \n",
       " Median :60.00      Median :0.00000  \n",
       " Mean   :63.39      Mean   :0.08517  \n",
       " 3rd Qu.:76.00      3rd Qu.:0.00000  \n",
       " Max.   :99.00      Max.   :1.00000  \n",
       "                                     "
      ]
     },
     "metadata": {},
     "output_type": "display_data"
    }
   ],
   "source": [
    "#display the summary or descriptive statistics of the data\n",
    "summary(data)"
   ]
  },
  {
   "cell_type": "code",
   "execution_count": 184,
   "id": "peaceful-cover",
   "metadata": {},
   "outputs": [
    {
     "data": {
      "text/html": [
       "4124"
      ],
      "text/latex": [
       "4124"
      ],
      "text/markdown": [
       "4124"
      ],
      "text/plain": [
       "[1] 4124"
      ]
     },
     "metadata": {},
     "output_type": "display_data"
    }
   ],
   "source": [
    "#Check the missing values\n",
    "sum(is.na(data))"
   ]
  },
  {
   "cell_type": "code",
   "execution_count": 185,
   "id": "polar-summary",
   "metadata": {},
   "outputs": [],
   "source": [
    "# Remove the missing values present in the data\n",
    "data <- data[complete.cases(data), ]"
   ]
  },
  {
   "cell_type": "markdown",
   "id": "potential-income",
   "metadata": {},
   "source": [
    "I have checked if there are any missing values in the dataset. The large missing values might affect the accuracy of my analysis. Since I have a large dataset, I can remove them from the dataset. In the small dataset, the missing values can be imputed by exploiting techniques like mean, K-nearest neighbor, and fuzzy K-means.\n",
    "\n",
    "<br> In the further steps, I am converting the categorical dependent variable to a dummy variable and checking whether there is a correlation between my variables. </br>"
   ]
  },
  {
   "cell_type": "code",
   "execution_count": 186,
   "id": "advance-spencer",
   "metadata": {},
   "outputs": [],
   "source": [
    "#convert is_promoted to categorical\n",
    "data$is_promoted <- as.factor(data$is_promoted)"
   ]
  },
  {
   "cell_type": "code",
   "execution_count": 187,
   "id": "indonesian-involvement",
   "metadata": {},
   "outputs": [
    {
     "data": {
      "text/html": [
       "<table>\n",
       "<caption>A matrix: 6 × 6 of type dbl</caption>\n",
       "<thead>\n",
       "\t<tr><th></th><th scope=col>no_of_trainings</th><th scope=col>age</th><th scope=col>previous_year_rating</th><th scope=col>length_of_service</th><th scope=col>awards_won.</th><th scope=col>avg_training_score</th></tr>\n",
       "</thead>\n",
       "<tbody>\n",
       "\t<tr><th scope=row>no_of_trainings</th><td> 1.000000000</td><td>-0.081542733</td><td>-0.063126473</td><td>-0.054220641</td><td>-0.008430295</td><td> 0.04443301</td></tr>\n",
       "\t<tr><th scope=row>age</th><td>-0.081542733</td><td> 1.000000000</td><td> 0.006008234</td><td> 0.624249658</td><td>-0.010418627</td><td>-0.05674427</td></tr>\n",
       "\t<tr><th scope=row>previous_year_rating</th><td>-0.063126473</td><td> 0.006008234</td><td> 1.000000000</td><td> 0.000252746</td><td> 0.027738155</td><td> 0.07513911</td></tr>\n",
       "\t<tr><th scope=row>length_of_service</th><td>-0.054220641</td><td> 0.624249658</td><td> 0.000252746</td><td> 1.000000000</td><td>-0.043845624</td><td>-0.04226047</td></tr>\n",
       "\t<tr><th scope=row>awards_won.</th><td>-0.008430295</td><td>-0.010418627</td><td> 0.027738155</td><td>-0.043845624</td><td> 1.000000000</td><td> 0.07256739</td></tr>\n",
       "\t<tr><th scope=row>avg_training_score</th><td> 0.044433005</td><td>-0.056744271</td><td> 0.075139112</td><td>-0.042260471</td><td> 0.072567395</td><td> 1.00000000</td></tr>\n",
       "</tbody>\n",
       "</table>\n"
      ],
      "text/latex": [
       "A matrix: 6 × 6 of type dbl\n",
       "\\begin{tabular}{r|llllll}\n",
       "  & no\\_of\\_trainings & age & previous\\_year\\_rating & length\\_of\\_service & awards\\_won. & avg\\_training\\_score\\\\\n",
       "\\hline\n",
       "\tno\\_of\\_trainings &  1.000000000 & -0.081542733 & -0.063126473 & -0.054220641 & -0.008430295 &  0.04443301\\\\\n",
       "\tage & -0.081542733 &  1.000000000 &  0.006008234 &  0.624249658 & -0.010418627 & -0.05674427\\\\\n",
       "\tprevious\\_year\\_rating & -0.063126473 &  0.006008234 &  1.000000000 &  0.000252746 &  0.027738155 &  0.07513911\\\\\n",
       "\tlength\\_of\\_service & -0.054220641 &  0.624249658 &  0.000252746 &  1.000000000 & -0.043845624 & -0.04226047\\\\\n",
       "\tawards\\_won. & -0.008430295 & -0.010418627 &  0.027738155 & -0.043845624 &  1.000000000 &  0.07256739\\\\\n",
       "\tavg\\_training\\_score &  0.044433005 & -0.056744271 &  0.075139112 & -0.042260471 &  0.072567395 &  1.00000000\\\\\n",
       "\\end{tabular}\n"
      ],
      "text/markdown": [
       "\n",
       "A matrix: 6 × 6 of type dbl\n",
       "\n",
       "| <!--/--> | no_of_trainings | age | previous_year_rating | length_of_service | awards_won. | avg_training_score |\n",
       "|---|---|---|---|---|---|---|\n",
       "| no_of_trainings |  1.000000000 | -0.081542733 | -0.063126473 | -0.054220641 | -0.008430295 |  0.04443301 |\n",
       "| age | -0.081542733 |  1.000000000 |  0.006008234 |  0.624249658 | -0.010418627 | -0.05674427 |\n",
       "| previous_year_rating | -0.063126473 |  0.006008234 |  1.000000000 |  0.000252746 |  0.027738155 |  0.07513911 |\n",
       "| length_of_service | -0.054220641 |  0.624249658 |  0.000252746 |  1.000000000 | -0.043845624 | -0.04226047 |\n",
       "| awards_won. | -0.008430295 | -0.010418627 |  0.027738155 | -0.043845624 |  1.000000000 |  0.07256739 |\n",
       "| avg_training_score |  0.044433005 | -0.056744271 |  0.075139112 | -0.042260471 |  0.072567395 |  1.00000000 |\n",
       "\n"
      ],
      "text/plain": [
       "                     no_of_trainings age          previous_year_rating\n",
       "no_of_trainings       1.000000000    -0.081542733 -0.063126473        \n",
       "age                  -0.081542733     1.000000000  0.006008234        \n",
       "previous_year_rating -0.063126473     0.006008234  1.000000000        \n",
       "length_of_service    -0.054220641     0.624249658  0.000252746        \n",
       "awards_won.          -0.008430295    -0.010418627  0.027738155        \n",
       "avg_training_score    0.044433005    -0.056744271  0.075139112        \n",
       "                     length_of_service awards_won.  avg_training_score\n",
       "no_of_trainings      -0.054220641      -0.008430295  0.04443301       \n",
       "age                   0.624249658      -0.010418627 -0.05674427       \n",
       "previous_year_rating  0.000252746       0.027738155  0.07513911       \n",
       "length_of_service     1.000000000      -0.043845624 -0.04226047       \n",
       "awards_won.          -0.043845624       1.000000000  0.07256739       \n",
       "avg_training_score   -0.042260471       0.072567395  1.00000000       "
      ]
     },
     "metadata": {},
     "output_type": "display_data"
    }
   ],
   "source": [
    "#check if there is a correlation between the variables\n",
    "cor(data[c(\"no_of_trainings\", \"age\", \"previous_year_rating\", \"length_of_service\", \"awards_won.\", \"avg_training_score\")])"
   ]
  },
  {
   "cell_type": "code",
   "execution_count": 12,
   "id": "chemical-flexibility",
   "metadata": {
    "scrolled": false
   },
   "outputs": [
    {
     "name": "stderr",
     "output_type": "stream",
     "text": [
      "`stat_bin()` using `bins = 30`. Pick better value with `binwidth`.\n",
      "`stat_bin()` using `bins = 30`. Pick better value with `binwidth`.\n",
      "`stat_bin()` using `bins = 30`. Pick better value with `binwidth`.\n",
      "`stat_bin()` using `bins = 30`. Pick better value with `binwidth`.\n",
      "`stat_bin()` using `bins = 30`. Pick better value with `binwidth`.\n",
      "`stat_bin()` using `bins = 30`. Pick better value with `binwidth`.\n",
      "`stat_bin()` using `bins = 30`. Pick better value with `binwidth`.\n",
      "`stat_bin()` using `bins = 30`. Pick better value with `binwidth`.\n",
      "`stat_bin()` using `bins = 30`. Pick better value with `binwidth`.\n",
      "`stat_bin()` using `bins = 30`. Pick better value with `binwidth`.\n",
      "`stat_bin()` using `bins = 30`. Pick better value with `binwidth`.\n",
      "`stat_bin()` using `bins = 30`. Pick better value with `binwidth`.\n",
      "`stat_bin()` using `bins = 30`. Pick better value with `binwidth`.\n",
      "`stat_bin()` using `bins = 30`. Pick better value with `binwidth`.\n",
      "`stat_bin()` using `bins = 30`. Pick better value with `binwidth`.\n",
      "`stat_bin()` using `bins = 30`. Pick better value with `binwidth`.\n",
      "`stat_bin()` using `bins = 30`. Pick better value with `binwidth`.\n",
      "`stat_bin()` using `bins = 30`. Pick better value with `binwidth`.\n",
      "`stat_bin()` using `bins = 30`. Pick better value with `binwidth`.\n",
      "`stat_bin()` using `bins = 30`. Pick better value with `binwidth`.\n",
      "`stat_bin()` using `bins = 30`. Pick better value with `binwidth`.\n",
      "`stat_bin()` using `bins = 30`. Pick better value with `binwidth`.\n",
      "`stat_bin()` using `bins = 30`. Pick better value with `binwidth`.\n",
      "`stat_bin()` using `bins = 30`. Pick better value with `binwidth`.\n",
      "`stat_bin()` using `bins = 30`. Pick better value with `binwidth`.\n",
      "`stat_bin()` using `bins = 30`. Pick better value with `binwidth`.\n",
      "`stat_bin()` using `bins = 30`. Pick better value with `binwidth`.\n",
      "`stat_bin()` using `bins = 30`. Pick better value with `binwidth`.\n",
      "`stat_bin()` using `bins = 30`. Pick better value with `binwidth`.\n",
      "`stat_bin()` using `bins = 30`. Pick better value with `binwidth`.\n",
      "`stat_bin()` using `bins = 30`. Pick better value with `binwidth`.\n",
      "`stat_bin()` using `bins = 30`. Pick better value with `binwidth`.\n",
      "`stat_bin()` using `bins = 30`. Pick better value with `binwidth`.\n",
      "`stat_bin()` using `bins = 30`. Pick better value with `binwidth`.\n",
      "`stat_bin()` using `bins = 30`. Pick better value with `binwidth`.\n"
     ]
    },
    {
     "data": {
      "image/png": "[encoded data removed]",
      "text/plain": [
       "plot without title"
      ]
     },
     "metadata": {},
     "output_type": "display_data"
    }
   ],
   "source": [
    "#plot the correlation matrix\n",
    "#remove \"region\" variable as it is above the cardinality threshold\n",
    "data$region <- NULL\n",
    "ggpairs(data)"
   ]
  },
  {
   "cell_type": "code",
   "execution_count": 188,
   "id": "eight-pressure",
   "metadata": {},
   "outputs": [
    {
     "name": "stderr",
     "output_type": "stream",
     "text": [
      "Warning message in model.matrix.default(~x - 1, model.frame(~x - 1), contrasts = FALSE):\n",
      "\"non-list contrasts argument ignored\"Warning message in model.matrix.default(~x - 1, model.frame(~x - 1), contrasts = FALSE):\n",
      "\"non-list contrasts argument ignored\"Warning message in model.matrix.default(~x - 1, model.frame(~x - 1), contrasts = FALSE):\n",
      "\"non-list contrasts argument ignored\"Warning message in model.matrix.default(~x - 1, model.frame(~x - 1), contrasts = FALSE):\n",
      "\"non-list contrasts argument ignored\""
     ]
    }
   ],
   "source": [
    "#convert to dummies\n",
    "education <- dummy(\"education\", data = data)\n",
    "gender <- dummy(\"gender\", data = data)\n",
    "department <- dummy(\"department\", data = data)\n",
    "recruitment_channel <- dummy(\"recruitment_channel\", data = data)"
   ]
  },
  {
   "cell_type": "code",
   "execution_count": 205,
   "id": "threaded-consultancy",
   "metadata": {},
   "outputs": [],
   "source": [
    "#bind\n",
    "data_dummy <- cbind(data, gender)\n",
    "data_dummy <- cbind(data_dummy, education)\n",
    "data_dummy <- cbind(data_dummy, department)\n",
    "data_dummy <- cbind(data_dummy, recruitment_channel)"
   ]
  },
  {
   "cell_type": "code",
   "execution_count": 206,
   "id": "ethical-while",
   "metadata": {},
   "outputs": [
    {
     "data": {
      "text/html": [
       "<style>\n",
       ".list-inline {list-style: none; margin:0; padding: 0}\n",
       ".list-inline>li {display: inline-block}\n",
       ".list-inline>li:not(:last-child)::after {content: \"\\00b7\"; padding: 0 .5ex}\n",
       "</style>\n",
       "<ol class=list-inline><li>'employee_id'</li><li>'department'</li><li>'region'</li><li>'education'</li><li>'gender'</li><li>'recruitment_channel'</li><li>'no_of_trainings'</li><li>'age'</li><li>'previous_year_rating'</li><li>'length_of_service'</li><li>'awards_won.'</li><li>'avg_training_score'</li><li>'is_promoted'</li><li>'genderf'</li><li>'genderm'</li><li>'education'</li><li>'educationBachelor\\'s'</li><li>'educationBelow Secondary'</li><li>'educationMaster\\'s &amp; above'</li><li>'departmentAnalytics'</li><li>'departmentFinance'</li><li>'departmentHR'</li><li>'departmentLegal'</li><li>'departmentOperations'</li><li>'departmentProcurement'</li><li>'departmentR&amp;D'</li><li>'departmentSales &amp; Marketing'</li><li>'departmentTechnology'</li><li>'recruitment_channelother'</li><li>'recruitment_channelreferred'</li><li>'recruitment_channelsourcing'</li></ol>\n"
      ],
      "text/latex": [
       "\\begin{enumerate*}\n",
       "\\item 'employee\\_id'\n",
       "\\item 'department'\n",
       "\\item 'region'\n",
       "\\item 'education'\n",
       "\\item 'gender'\n",
       "\\item 'recruitment\\_channel'\n",
       "\\item 'no\\_of\\_trainings'\n",
       "\\item 'age'\n",
       "\\item 'previous\\_year\\_rating'\n",
       "\\item 'length\\_of\\_service'\n",
       "\\item 'awards\\_won.'\n",
       "\\item 'avg\\_training\\_score'\n",
       "\\item 'is\\_promoted'\n",
       "\\item 'genderf'\n",
       "\\item 'genderm'\n",
       "\\item 'education'\n",
       "\\item 'educationBachelor\\textbackslash{}'s'\n",
       "\\item 'educationBelow Secondary'\n",
       "\\item 'educationMaster\\textbackslash{}'s \\& above'\n",
       "\\item 'departmentAnalytics'\n",
       "\\item 'departmentFinance'\n",
       "\\item 'departmentHR'\n",
       "\\item 'departmentLegal'\n",
       "\\item 'departmentOperations'\n",
       "\\item 'departmentProcurement'\n",
       "\\item 'departmentR\\&D'\n",
       "\\item 'departmentSales \\& Marketing'\n",
       "\\item 'departmentTechnology'\n",
       "\\item 'recruitment\\_channelother'\n",
       "\\item 'recruitment\\_channelreferred'\n",
       "\\item 'recruitment\\_channelsourcing'\n",
       "\\end{enumerate*}\n"
      ],
      "text/markdown": [
       "1. 'employee_id'\n",
       "2. 'department'\n",
       "3. 'region'\n",
       "4. 'education'\n",
       "5. 'gender'\n",
       "6. 'recruitment_channel'\n",
       "7. 'no_of_trainings'\n",
       "8. 'age'\n",
       "9. 'previous_year_rating'\n",
       "10. 'length_of_service'\n",
       "11. 'awards_won.'\n",
       "12. 'avg_training_score'\n",
       "13. 'is_promoted'\n",
       "14. 'genderf'\n",
       "15. 'genderm'\n",
       "16. 'education'\n",
       "17. 'educationBachelor\\'s'\n",
       "18. 'educationBelow Secondary'\n",
       "19. 'educationMaster\\'s &amp; above'\n",
       "20. 'departmentAnalytics'\n",
       "21. 'departmentFinance'\n",
       "22. 'departmentHR'\n",
       "23. 'departmentLegal'\n",
       "24. 'departmentOperations'\n",
       "25. 'departmentProcurement'\n",
       "26. 'departmentR&amp;D'\n",
       "27. 'departmentSales &amp; Marketing'\n",
       "28. 'departmentTechnology'\n",
       "29. 'recruitment_channelother'\n",
       "30. 'recruitment_channelreferred'\n",
       "31. 'recruitment_channelsourcing'\n",
       "\n",
       "\n"
      ],
      "text/plain": [
       " [1] \"employee_id\"                 \"department\"                 \n",
       " [3] \"region\"                      \"education\"                  \n",
       " [5] \"gender\"                      \"recruitment_channel\"        \n",
       " [7] \"no_of_trainings\"             \"age\"                        \n",
       " [9] \"previous_year_rating\"        \"length_of_service\"          \n",
       "[11] \"awards_won.\"                 \"avg_training_score\"         \n",
       "[13] \"is_promoted\"                 \"genderf\"                    \n",
       "[15] \"genderm\"                     \"education\"                  \n",
       "[17] \"educationBachelor's\"         \"educationBelow Secondary\"   \n",
       "[19] \"educationMaster's & above\"   \"departmentAnalytics\"        \n",
       "[21] \"departmentFinance\"           \"departmentHR\"               \n",
       "[23] \"departmentLegal\"             \"departmentOperations\"       \n",
       "[25] \"departmentProcurement\"       \"departmentR&D\"              \n",
       "[27] \"departmentSales & Marketing\" \"departmentTechnology\"       \n",
       "[29] \"recruitment_channelother\"    \"recruitment_channelreferred\"\n",
       "[31] \"recruitment_channelsourcing\""
      ]
     },
     "metadata": {},
     "output_type": "display_data"
    }
   ],
   "source": [
    "#get to know the new column names in data_dummy\n",
    "names(data_dummy)"
   ]
  },
  {
   "cell_type": "code",
   "execution_count": 208,
   "id": "federal-quantum",
   "metadata": {},
   "outputs": [],
   "source": [
    "#rename the column names\n",
    "colnames(data_dummy)[17] <- \"education_Bachelor\"\n",
    "colnames(data_dummy)[19] <- \"educationMaster_above\"\n",
    "colnames(data_dummy)[18] <- \"educationBelow_Secondary\"\n",
    "colnames(data_dummy)[26] <- \"department_RD\"\n",
    "colnames(data_dummy)[27] <- \"department_SM\"\n",
    "colnames(data_dummy)[11] <- \"awards_won\""
   ]
  },
  {
   "cell_type": "code",
   "execution_count": 221,
   "id": "natural-astronomy",
   "metadata": {},
   "outputs": [
    {
     "data": {
      "text/html": [
       "<table>\n",
       "<caption>A data.frame: 6 × 31</caption>\n",
       "<thead>\n",
       "\t<tr><th></th><th scope=col>employee_id</th><th scope=col>department</th><th scope=col>region</th><th scope=col>education</th><th scope=col>gender</th><th scope=col>recruitment_channel</th><th scope=col>no_of_trainings</th><th scope=col>age</th><th scope=col>previous_year_rating</th><th scope=col>length_of_service</th><th scope=col>...</th><th scope=col>departmentHR</th><th scope=col>departmentLegal</th><th scope=col>departmentOperations</th><th scope=col>departmentProcurement</th><th scope=col>department_RD</th><th scope=col>department_SM</th><th scope=col>departmentTechnology</th><th scope=col>recruitment_channelother</th><th scope=col>recruitment_channelreferred</th><th scope=col>recruitment_channelsourcing</th></tr>\n",
       "\t<tr><th></th><th scope=col>&lt;int&gt;</th><th scope=col>&lt;fct&gt;</th><th scope=col>&lt;fct&gt;</th><th scope=col>&lt;fct&gt;</th><th scope=col>&lt;fct&gt;</th><th scope=col>&lt;fct&gt;</th><th scope=col>&lt;int&gt;</th><th scope=col>&lt;dbl&gt;</th><th scope=col>&lt;dbl&gt;</th><th scope=col>&lt;int&gt;</th><th scope=col>...</th><th scope=col>&lt;int&gt;</th><th scope=col>&lt;int&gt;</th><th scope=col>&lt;int&gt;</th><th scope=col>&lt;int&gt;</th><th scope=col>&lt;int&gt;</th><th scope=col>&lt;int&gt;</th><th scope=col>&lt;int&gt;</th><th scope=col>&lt;int&gt;</th><th scope=col>&lt;int&gt;</th><th scope=col>&lt;int&gt;</th></tr>\n",
       "</thead>\n",
       "<tbody>\n",
       "\t<tr><th scope=row>1</th><td>65438</td><td>Sales &amp; Marketing</td><td>region_7 </td><td>Master's &amp; above</td><td>f</td><td>sourcing</td><td>1</td><td>35</td><td>5</td><td> 8</td><td>...</td><td>0</td><td>0</td><td>0</td><td>0</td><td>0</td><td>1</td><td>0</td><td>0</td><td>0</td><td>1</td></tr>\n",
       "\t<tr><th scope=row>2</th><td>65141</td><td>Operations       </td><td>region_22</td><td>Bachelor's      </td><td>m</td><td>other   </td><td>1</td><td>30</td><td>5</td><td> 4</td><td>...</td><td>0</td><td>0</td><td>1</td><td>0</td><td>0</td><td>0</td><td>0</td><td>1</td><td>0</td><td>0</td></tr>\n",
       "\t<tr><th scope=row>3</th><td> 7513</td><td>Sales &amp; Marketing</td><td>region_19</td><td><span style=white-space:pre-wrap>Bachelor's      </span></td><td>m</td><td>sourcing</td><td>1</td><td>34</td><td>3</td><td> 7</td><td>...</td><td>0</td><td>0</td><td>0</td><td>0</td><td>0</td><td>1</td><td>0</td><td>0</td><td>0</td><td>1</td></tr>\n",
       "\t<tr><th scope=row>4</th><td> 2542</td><td>Sales &amp; Marketing</td><td>region_23</td><td><span style=white-space:pre-wrap>Bachelor's      </span></td><td>m</td><td><span style=white-space:pre-wrap>other   </span></td><td>2</td><td>39</td><td>1</td><td>10</td><td>...</td><td>0</td><td>0</td><td>0</td><td>0</td><td>0</td><td>1</td><td>0</td><td>1</td><td>0</td><td>0</td></tr>\n",
       "\t<tr><th scope=row>5</th><td>48945</td><td>Technology       </td><td>region_26</td><td>Bachelor's      </td><td>m</td><td>other   </td><td>1</td><td>45</td><td>3</td><td> 2</td><td>...</td><td>0</td><td>0</td><td>0</td><td>0</td><td>0</td><td>0</td><td>1</td><td>1</td><td>0</td><td>0</td></tr>\n",
       "\t<tr><th scope=row>6</th><td>58896</td><td>Analytics        </td><td>region_2 </td><td>Bachelor's      </td><td>m</td><td>sourcing</td><td>2</td><td>31</td><td>3</td><td> 7</td><td>...</td><td>0</td><td>0</td><td>0</td><td>0</td><td>0</td><td>0</td><td>0</td><td>0</td><td>0</td><td>1</td></tr>\n",
       "</tbody>\n",
       "</table>\n"
      ],
      "text/latex": [
       "A data.frame: 6 × 31\n",
       "\\begin{tabular}{r|lllllllllllllllllllll}\n",
       "  & employee\\_id & department & region & education & gender & recruitment\\_channel & no\\_of\\_trainings & age & previous\\_year\\_rating & length\\_of\\_service & ... & departmentHR & departmentLegal & departmentOperations & departmentProcurement & department\\_RD & department\\_SM & departmentTechnology & recruitment\\_channelother & recruitment\\_channelreferred & recruitment\\_channelsourcing\\\\\n",
       "  & <int> & <fct> & <fct> & <fct> & <fct> & <fct> & <int> & <dbl> & <dbl> & <int> & ... & <int> & <int> & <int> & <int> & <int> & <int> & <int> & <int> & <int> & <int>\\\\\n",
       "\\hline\n",
       "\t1 & 65438 & Sales \\& Marketing & region\\_7  & Master's \\& above & f & sourcing & 1 & 35 & 5 &  8 & ... & 0 & 0 & 0 & 0 & 0 & 1 & 0 & 0 & 0 & 1\\\\\n",
       "\t2 & 65141 & Operations        & region\\_22 & Bachelor's       & m & other    & 1 & 30 & 5 &  4 & ... & 0 & 0 & 1 & 0 & 0 & 0 & 0 & 1 & 0 & 0\\\\\n",
       "\t3 &  7513 & Sales \\& Marketing & region\\_19 & Bachelor's       & m & sourcing & 1 & 34 & 3 &  7 & ... & 0 & 0 & 0 & 0 & 0 & 1 & 0 & 0 & 0 & 1\\\\\n",
       "\t4 &  2542 & Sales \\& Marketing & region\\_23 & Bachelor's       & m & other    & 2 & 39 & 1 & 10 & ... & 0 & 0 & 0 & 0 & 0 & 1 & 0 & 1 & 0 & 0\\\\\n",
       "\t5 & 48945 & Technology        & region\\_26 & Bachelor's       & m & other    & 1 & 45 & 3 &  2 & ... & 0 & 0 & 0 & 0 & 0 & 0 & 1 & 1 & 0 & 0\\\\\n",
       "\t6 & 58896 & Analytics         & region\\_2  & Bachelor's       & m & sourcing & 2 & 31 & 3 &  7 & ... & 0 & 0 & 0 & 0 & 0 & 0 & 0 & 0 & 0 & 1\\\\\n",
       "\\end{tabular}\n"
      ],
      "text/markdown": [
       "\n",
       "A data.frame: 6 × 31\n",
       "\n",
       "| <!--/--> | employee_id &lt;int&gt; | department &lt;fct&gt; | region &lt;fct&gt; | education &lt;fct&gt; | gender &lt;fct&gt; | recruitment_channel &lt;fct&gt; | no_of_trainings &lt;int&gt; | age &lt;dbl&gt; | previous_year_rating &lt;dbl&gt; | length_of_service &lt;int&gt; | ... ... | departmentHR &lt;int&gt; | departmentLegal &lt;int&gt; | departmentOperations &lt;int&gt; | departmentProcurement &lt;int&gt; | department_RD &lt;int&gt; | department_SM &lt;int&gt; | departmentTechnology &lt;int&gt; | recruitment_channelother &lt;int&gt; | recruitment_channelreferred &lt;int&gt; | recruitment_channelsourcing &lt;int&gt; |\n",
       "|---|---|---|---|---|---|---|---|---|---|---|---|---|---|---|---|---|---|---|---|---|---|\n",
       "| 1 | 65438 | Sales &amp; Marketing | region_7  | Master's &amp; above | f | sourcing | 1 | 35 | 5 |  8 | ... | 0 | 0 | 0 | 0 | 0 | 1 | 0 | 0 | 0 | 1 |\n",
       "| 2 | 65141 | Operations        | region_22 | Bachelor's       | m | other    | 1 | 30 | 5 |  4 | ... | 0 | 0 | 1 | 0 | 0 | 0 | 0 | 1 | 0 | 0 |\n",
       "| 3 |  7513 | Sales &amp; Marketing | region_19 | Bachelor's       | m | sourcing | 1 | 34 | 3 |  7 | ... | 0 | 0 | 0 | 0 | 0 | 1 | 0 | 0 | 0 | 1 |\n",
       "| 4 |  2542 | Sales &amp; Marketing | region_23 | Bachelor's       | m | other    | 2 | 39 | 1 | 10 | ... | 0 | 0 | 0 | 0 | 0 | 1 | 0 | 1 | 0 | 0 |\n",
       "| 5 | 48945 | Technology        | region_26 | Bachelor's       | m | other    | 1 | 45 | 3 |  2 | ... | 0 | 0 | 0 | 0 | 0 | 0 | 1 | 1 | 0 | 0 |\n",
       "| 6 | 58896 | Analytics         | region_2  | Bachelor's       | m | sourcing | 2 | 31 | 3 |  7 | ... | 0 | 0 | 0 | 0 | 0 | 0 | 0 | 0 | 0 | 1 |\n",
       "\n"
      ],
      "text/plain": [
       "  employee_id department        region    education        gender\n",
       "1 65438       Sales & Marketing region_7  Master's & above f     \n",
       "2 65141       Operations        region_22 Bachelor's       m     \n",
       "3  7513       Sales & Marketing region_19 Bachelor's       m     \n",
       "4  2542       Sales & Marketing region_23 Bachelor's       m     \n",
       "5 48945       Technology        region_26 Bachelor's       m     \n",
       "6 58896       Analytics         region_2  Bachelor's       m     \n",
       "  recruitment_channel no_of_trainings age previous_year_rating\n",
       "1 sourcing            1               35  5                   \n",
       "2 other               1               30  5                   \n",
       "3 sourcing            1               34  3                   \n",
       "4 other               2               39  1                   \n",
       "5 other               1               45  3                   \n",
       "6 sourcing            2               31  3                   \n",
       "  length_of_service ... departmentHR departmentLegal departmentOperations\n",
       "1  8                ... 0            0               0                   \n",
       "2  4                ... 0            0               1                   \n",
       "3  7                ... 0            0               0                   \n",
       "4 10                ... 0            0               0                   \n",
       "5  2                ... 0            0               0                   \n",
       "6  7                ... 0            0               0                   \n",
       "  departmentProcurement department_RD department_SM departmentTechnology\n",
       "1 0                     0             1             0                   \n",
       "2 0                     0             0             0                   \n",
       "3 0                     0             1             0                   \n",
       "4 0                     0             1             0                   \n",
       "5 0                     0             0             1                   \n",
       "6 0                     0             0             0                   \n",
       "  recruitment_channelother recruitment_channelreferred\n",
       "1 0                        0                          \n",
       "2 1                        0                          \n",
       "3 0                        0                          \n",
       "4 1                        0                          \n",
       "5 1                        0                          \n",
       "6 0                        0                          \n",
       "  recruitment_channelsourcing\n",
       "1 1                          \n",
       "2 0                          \n",
       "3 1                          \n",
       "4 0                          \n",
       "5 0                          \n",
       "6 1                          "
      ]
     },
     "metadata": {},
     "output_type": "display_data"
    }
   ],
   "source": [
    "# display top 6 rows of dataset \"data_dummy\" to see how data look like\n",
    "head(data_dummy)"
   ]
  },
  {
   "cell_type": "code",
   "execution_count": 210,
   "id": "combined-howard",
   "metadata": {
    "scrolled": true
   },
   "outputs": [
    {
     "data": {
      "text/html": [
       "<style>\n",
       ".list-inline {list-style: none; margin:0; padding: 0}\n",
       ".list-inline>li {display: inline-block}\n",
       ".list-inline>li:not(:last-child)::after {content: \"\\00b7\"; padding: 0 .5ex}\n",
       "</style>\n",
       "<ol class=list-inline><li>'employee_id'</li><li>'department'</li><li>'region'</li><li>'education'</li><li>'gender'</li><li>'recruitment_channel'</li><li>'no_of_trainings'</li><li>'age'</li><li>'previous_year_rating'</li><li>'length_of_service'</li><li>'awards_won'</li><li>'avg_training_score'</li><li>'is_promoted'</li><li>'genderf'</li><li>'genderm'</li><li>'education'</li><li>'education_Bachelor'</li><li>'educationBelow_Secondary'</li><li>'educationMaster_above'</li><li>'departmentAnalytics'</li><li>'departmentFinance'</li><li>'departmentHR'</li><li>'departmentLegal'</li><li>'departmentOperations'</li><li>'departmentProcurement'</li><li>'department_RD'</li><li>'department_SM'</li><li>'departmentTechnology'</li><li>'recruitment_channelother'</li><li>'recruitment_channelreferred'</li><li>'recruitment_channelsourcing'</li></ol>\n"
      ],
      "text/latex": [
       "\\begin{enumerate*}\n",
       "\\item 'employee\\_id'\n",
       "\\item 'department'\n",
       "\\item 'region'\n",
       "\\item 'education'\n",
       "\\item 'gender'\n",
       "\\item 'recruitment\\_channel'\n",
       "\\item 'no\\_of\\_trainings'\n",
       "\\item 'age'\n",
       "\\item 'previous\\_year\\_rating'\n",
       "\\item 'length\\_of\\_service'\n",
       "\\item 'awards\\_won'\n",
       "\\item 'avg\\_training\\_score'\n",
       "\\item 'is\\_promoted'\n",
       "\\item 'genderf'\n",
       "\\item 'genderm'\n",
       "\\item 'education'\n",
       "\\item 'education\\_Bachelor'\n",
       "\\item 'educationBelow\\_Secondary'\n",
       "\\item 'educationMaster\\_above'\n",
       "\\item 'departmentAnalytics'\n",
       "\\item 'departmentFinance'\n",
       "\\item 'departmentHR'\n",
       "\\item 'departmentLegal'\n",
       "\\item 'departmentOperations'\n",
       "\\item 'departmentProcurement'\n",
       "\\item 'department\\_RD'\n",
       "\\item 'department\\_SM'\n",
       "\\item 'departmentTechnology'\n",
       "\\item 'recruitment\\_channelother'\n",
       "\\item 'recruitment\\_channelreferred'\n",
       "\\item 'recruitment\\_channelsourcing'\n",
       "\\end{enumerate*}\n"
      ],
      "text/markdown": [
       "1. 'employee_id'\n",
       "2. 'department'\n",
       "3. 'region'\n",
       "4. 'education'\n",
       "5. 'gender'\n",
       "6. 'recruitment_channel'\n",
       "7. 'no_of_trainings'\n",
       "8. 'age'\n",
       "9. 'previous_year_rating'\n",
       "10. 'length_of_service'\n",
       "11. 'awards_won'\n",
       "12. 'avg_training_score'\n",
       "13. 'is_promoted'\n",
       "14. 'genderf'\n",
       "15. 'genderm'\n",
       "16. 'education'\n",
       "17. 'education_Bachelor'\n",
       "18. 'educationBelow_Secondary'\n",
       "19. 'educationMaster_above'\n",
       "20. 'departmentAnalytics'\n",
       "21. 'departmentFinance'\n",
       "22. 'departmentHR'\n",
       "23. 'departmentLegal'\n",
       "24. 'departmentOperations'\n",
       "25. 'departmentProcurement'\n",
       "26. 'department_RD'\n",
       "27. 'department_SM'\n",
       "28. 'departmentTechnology'\n",
       "29. 'recruitment_channelother'\n",
       "30. 'recruitment_channelreferred'\n",
       "31. 'recruitment_channelsourcing'\n",
       "\n",
       "\n"
      ],
      "text/plain": [
       " [1] \"employee_id\"                 \"department\"                 \n",
       " [3] \"region\"                      \"education\"                  \n",
       " [5] \"gender\"                      \"recruitment_channel\"        \n",
       " [7] \"no_of_trainings\"             \"age\"                        \n",
       " [9] \"previous_year_rating\"        \"length_of_service\"          \n",
       "[11] \"awards_won\"                  \"avg_training_score\"         \n",
       "[13] \"is_promoted\"                 \"genderf\"                    \n",
       "[15] \"genderm\"                     \"education\"                  \n",
       "[17] \"education_Bachelor\"          \"educationBelow_Secondary\"   \n",
       "[19] \"educationMaster_above\"       \"departmentAnalytics\"        \n",
       "[21] \"departmentFinance\"           \"departmentHR\"               \n",
       "[23] \"departmentLegal\"             \"departmentOperations\"       \n",
       "[25] \"departmentProcurement\"       \"department_RD\"              \n",
       "[27] \"department_SM\"               \"departmentTechnology\"       \n",
       "[29] \"recruitment_channelother\"    \"recruitment_channelreferred\"\n",
       "[31] \"recruitment_channelsourcing\""
      ]
     },
     "metadata": {},
     "output_type": "display_data"
    }
   ],
   "source": [
    "names(data_dummy)"
   ]
  },
  {
   "cell_type": "markdown",
   "id": "numeric-arena",
   "metadata": {},
   "source": [
    "# Building a model"
   ]
  },
  {
   "cell_type": "markdown",
   "id": "registered-dream",
   "metadata": {},
   "source": [
    "In this section, I explain the models I use to predict the promotion of employees. Since the dependent variable is binary, I consider three concepts for prediction. They are the linear probability model (model_8), logit (model_logit_8), and probit (model_probit_8) models. Before running model_8, model_logit_8, model_probit_8, I have run nine different models for each type of model and chose the model_8, model_logit_8, model_probit_8 by dropping out the models with insignificant variables (e.g., recruitment_channel). As a reference category, I set genderf, educationBelow_Secondary, department_Analytics."
   ]
  },
  {
   "cell_type": "code",
   "execution_count": 218,
   "id": "ignored-poster",
   "metadata": {},
   "outputs": [],
   "source": [
    "data_dummy$is_promoted = as.factor(data_dummy$is_promoted)\n",
    "data_dummy$age <- as.numeric(data_dummy$age)\n",
    "data_dummy$previous_year_rating <- as.numeric(data_dummy$previous_year_rating)\n",
    "data_dummy$avg_training_score <- as.numeric(data_dummy$avg_training_score)\n",
    "data_dummy$awards_won <- as.numeric(data_dummy$awards_won)"
   ]
  },
  {
   "cell_type": "code",
   "execution_count": 219,
   "id": "current-syndrome",
   "metadata": {},
   "outputs": [
    {
     "name": "stderr",
     "output_type": "stream",
     "text": [
      "Warning message in model.response(mf, \"numeric\"):\n",
      "\"using type = \"numeric\" with a factor response will be ignored\"Warning message in Ops.factor(y, z$residuals):\n",
      "\"'-' not meaningful for factors\""
     ]
    }
   ],
   "source": [
    "# reference categories: genderf, educationBelow_Secondary, department_Analytics\n",
    "\n",
    "# run a linear model\n",
    "model_8 <- lm(formula = is_promoted ~ age + previous_year_rating + awards_won + avg_training_score + \n",
    "              genderm + education_Bachelor + educationMaster_above + department_SM + departmentFinance + \n",
    "              departmentHR + departmentLegal + departmentOperations + departmentProcurement + department_RD + departmentTechnology,  \n",
    "              data = data_dummy)\n",
    "\n",
    "\n",
    "# run a binomial model (logit)\n",
    "model_logit_8 <- glm(formula = is_promoted ~ age + previous_year_rating + awards_won + avg_training_score + \n",
    "                     genderm + education_Bachelor + educationMaster_above + department_SM + departmentFinance + \n",
    "                     departmentHR + departmentLegal + departmentOperations + departmentProcurement + department_RD + departmentTechnology,  \n",
    "                     data = data_dummy, family = binomial(link = \"logit\"))\n",
    "\n",
    "\n",
    "#run a binomial model (probit)\n",
    "model_probit_8 <- glm(formula = is_promoted ~ age + previous_year_rating + awards_won + avg_training_score + \n",
    "                      genderm + education_Bachelor + educationMaster_above +department_SM + departmentFinance + \n",
    "                      departmentHR + departmentLegal + departmentOperations + departmentProcurement + department_RD +departmentTechnology,  \n",
    "                      data = data_dummy, family = binomial(link = \"probit\"))\n"
   ]
  },
  {
   "cell_type": "markdown",
   "id": "posted-effects",
   "metadata": {},
   "source": [
    "After reproducing the models' estimations, I store heteroskedasticity-robust standard errors of the coefficient estimators in a list that later are used as an argument in stargazer. Then, I present all the results of all three models in the table below."
   ]
  },
  {
   "cell_type": "code",
   "execution_count": 222,
   "id": "traditional-thickness",
   "metadata": {},
   "outputs": [],
   "source": [
    "#robust standart errors for models\n",
    "#rob_se <- list(sqrt(diag(vcovHC(model_8, type = \"HC1\"))), \n",
    "#               sqrt(diag(vcovHC(model_logit_8, type = \"HC1\"))),\n",
    "#               sqrt(diag(vcovHC(model_probit_8, type = \"HC1\"))))"
   ]
  },
  {
   "cell_type": "code",
   "execution_count": 223,
   "id": "split-shopping",
   "metadata": {},
   "outputs": [
    {
     "name": "stdout",
     "output_type": "stream",
     "text": [
      "\n",
      "======================================================\n",
      "                            Dependent variable:       \n",
      "                      --------------------------------\n",
      "                                is_promoted           \n",
      "                        OLS     logistic     probit   \n",
      "                        (1)        (2)         (3)    \n",
      "------------------------------------------------------\n",
      "age                    -0.001   -0.022***   -0.011*** \n",
      "                      (0.003)    (0.003)     (0.001)  \n",
      "                                                      \n",
      "previous_year_rating   0.030*   0.521***    0.260***  \n",
      "                      (0.017)    (0.017)     (0.008)  \n",
      "                                                      \n",
      "awards_won            0.227***  1.819***    0.993***  \n",
      "                      (0.081)    (0.081)     (0.043)  \n",
      "                                                      \n",
      "avg_training_score    0.023***  0.257***    0.126***  \n",
      "                      (0.005)    (0.005)     (0.003)  \n",
      "                                                      \n",
      "genderm                -0.002    -0.035      -0.021   \n",
      "                      (0.040)    (0.040)     (0.020)  \n",
      "                                                      \n",
      "education_Bachelor     0.022    0.442***    0.229***  \n",
      "                      (0.100)    (0.100)     (0.049)  \n",
      "                                                      \n",
      "educationMaster_above  0.039    0.716***    0.370***  \n",
      "                      (0.105)    (0.105)     (0.051)  \n",
      "                                                      \n",
      "department_SM         0.785***  8.602***    4.200***  \n",
      "                      (0.181)    (0.181)     (0.095)  \n",
      "                                                      \n",
      "departmentFinance     0.546***  5.898***    2.870***  \n",
      "                      (0.157)    (0.157)     (0.081)  \n",
      "                                                      \n",
      "departmentHR          0.760***  8.207***    4.000***  \n",
      "                      (0.205)    (0.205)     (0.106)  \n",
      "                                                      \n",
      "departmentLegal       0.531**   5.613***    2.746***  \n",
      "                      (0.217)    (0.217)     (0.108)  \n",
      "                                                      \n",
      "departmentOperations  0.556***  6.079***    2.974***  \n",
      "                      (0.136)    (0.136)     (0.071)  \n",
      "                                                      \n",
      "departmentProcurement 0.342***  3.719***    1.818***  \n",
      "                      (0.100)    (0.100)     (0.052)  \n",
      "                                                      \n",
      "department_RD          -0.034   -0.506***   -0.256*** \n",
      "                      (0.153)    (0.153)     (0.076)  \n",
      "                                                      \n",
      "departmentTechnology   0.129*   1.462***    0.708***  \n",
      "                      (0.074)    (0.074)     (0.038)  \n",
      "                                                      \n",
      "Constant              -0.945** -26.032***  -12.894*** \n",
      "                      (0.458)    (0.458)     (0.239)  \n",
      "                                                      \n",
      "------------------------------------------------------\n",
      "Observations           50,684    50,684      50,684   \n",
      "Log Likelihood                 -11,003.860 -11,159.130\n",
      "Akaike Inf. Crit.              22,039.730  22,350.250 \n",
      "======================================================\n",
      "Note:                      *p<0.1; **p<0.05; ***p<0.01\n"
     ]
    }
   ],
   "source": [
    "stargazer(model_8, model_logit_8, model_probit_8,\n",
    "          digits = 3,\n",
    "          type = \"text\", \n",
    "          header = FALSE,\n",
    "          se = rob_se,\n",
    "          model.numbers = FALSE,\n",
    "          column.labels = c(\"(1)\", \"(2)\", \"(3)\"))"
   ]
  },
  {
   "cell_type": "markdown",
   "id": "regional-campaign",
   "metadata": {},
   "source": [
    "In this table, models (1), (2), (3) are baseline specifications. These models differ only in the way they model the promotion probability. Model (1) is a linear probability model, model(2) is a Logit regression, and model (3) uses the Probit approach.\n",
    "\n",
    "In the linear model (1), the coefficients have direct interpretation. An increase in the previous_year_rating by 1 unit is estimated to increase the probability of getting promoted by about 0.030 percentage points. Also, awards won in the past addition the likelihood of promotion by 0.227 percentage points. We can see from the table that is at Sales and Marketing department than in the department of Analytics increases the chances of getting promoted by 0.785 percentage points. In this linear model, all coefficients except age, gender, education are significant at a 1 % level.\n",
    "\n",
    "Models (2) and (3) provide similar estimations, and all coefficients are large and significant at a 1 % level. These models differ so that the Logit regression (2) coefficients are more significant than in the probit model. Since the Akaike test value is also smaller than for the probit model, I will proceed with Logit Regression in further steps.\n"
   ]
  },
  {
   "cell_type": "code",
   "execution_count": 117,
   "id": "armed-filing",
   "metadata": {
    "scrolled": false
   },
   "outputs": [
    {
     "data": {
      "text/plain": [
       "\n",
       "Call:\n",
       "glm(formula = is_promoted ~ age + previous_year_rating + awards_won + \n",
       "    avg_training_score + genderm + education_Bachelor + educationMaster_above + \n",
       "    department_SM + departmentFinance + departmentHR + departmentLegal + \n",
       "    departmentOperations + departmentProcurement + department_RD + \n",
       "    departmentTechnology, family = binomial(link = \"logit\"), \n",
       "    data = data_dummy)\n",
       "\n",
       "Deviance Residuals: \n",
       "    Min       1Q   Median       3Q      Max  \n",
       "-1.7459  -0.3951  -0.2756  -0.1828   3.3953  \n",
       "\n",
       "Coefficients:\n",
       "                        Estimate Std. Error z value Pr(>|z|)    \n",
       "(Intercept)           -26.032425   0.443633 -58.680  < 2e-16 ***\n",
       "age                    -0.021967   0.002842  -7.728 1.09e-14 ***\n",
       "previous_year_rating    0.521132   0.017138  30.408  < 2e-16 ***\n",
       "awards_won              1.818955   0.082756  21.980  < 2e-16 ***\n",
       "avg_training_score      0.257336   0.004810  53.497  < 2e-16 ***\n",
       "genderm                -0.034614   0.041569  -0.833  0.40501    \n",
       "education_Bachelor      0.441609   0.104668   4.219 2.45e-05 ***\n",
       "educationMaster_above   0.716179   0.110042   6.508 7.60e-11 ***\n",
       "department_SM           8.602475   0.176143  48.838  < 2e-16 ***\n",
       "departmentFinance       5.897666   0.156213  37.754  < 2e-16 ***\n",
       "departmentHR            8.207109   0.203232  40.383  < 2e-16 ***\n",
       "departmentLegal         5.613468   0.218315  25.713  < 2e-16 ***\n",
       "departmentOperations    6.079180   0.134109  45.330  < 2e-16 ***\n",
       "departmentProcurement   3.718548   0.100750  36.909  < 2e-16 ***\n",
       "department_RD          -0.506326   0.150534  -3.364  0.00077 ***\n",
       "departmentTechnology    1.461938   0.073590  19.866  < 2e-16 ***\n",
       "---\n",
       "Signif. codes:  0 '***' 0.001 '**' 0.01 '*' 0.05 '.' 0.1 ' ' 1\n",
       "\n",
       "(Dispersion parameter for binomial family taken to be 1)\n",
       "\n",
       "    Null deviance: 29578  on 50683  degrees of freedom\n",
       "Residual deviance: 22008  on 50668  degrees of freedom\n",
       "AIC: 22040\n",
       "\n",
       "Number of Fisher Scoring iterations: 6\n"
      ]
     },
     "metadata": {},
     "output_type": "display_data"
    }
   ],
   "source": [
    "#summary of the logit model\n",
    "summary(model_logit_8)"
   ]
  },
  {
   "cell_type": "code",
   "execution_count": 121,
   "id": "intellectual-partner",
   "metadata": {},
   "outputs": [],
   "source": [
    "#In the next step, I am conducting the Variance Inflation Test. This test assists to identify the multicollinearity between the independent variables in the data. VIF values higher than 5 to 10 exhibit that there is multicollinearity. Hence, the variables having high multicollinearity must be dropped from the model, because there will be no impact in the accuracy of the model."
   ]
  },
  {
   "cell_type": "code",
   "execution_count": 122,
   "id": "refined-youth",
   "metadata": {
    "scrolled": true
   },
   "outputs": [],
   "source": [
    "#Variance Inflation Factor\n",
    "#vif(model_logit_8)"
   ]
  },
  {
   "cell_type": "code",
   "execution_count": 123,
   "id": "bizarre-shade",
   "metadata": {},
   "outputs": [],
   "source": [
    "#Variables avg_training score, education_Bachelor, educationMaster_above, department_SM, department_Operations have high VIF values and they should be dropped out from the model. However, I will leave "
   ]
  },
  {
   "cell_type": "markdown",
   "id": "starting-reserve",
   "metadata": {},
   "source": [
    "In this step, I do a correlation test between variables."
   ]
  },
  {
   "cell_type": "code",
   "execution_count": 124,
   "id": "bearing-church",
   "metadata": {},
   "outputs": [
    {
     "data": {
      "text/html": [
       "<table>\n",
       "<caption>A matrix: 9 × 9 of type dbl</caption>\n",
       "<thead>\n",
       "\t<tr><th></th><th scope=col>department_SM</th><th scope=col>departmentFinance</th><th scope=col>departmentHR</th><th scope=col>departmentLegal</th><th scope=col>departmentOperations</th><th scope=col>departmentProcurement</th><th scope=col>department_RD</th><th scope=col>departmentTechnology</th><th scope=col>departmentAnalytics</th></tr>\n",
       "</thead>\n",
       "<tbody>\n",
       "\t<tr><th scope=row>department_SM</th><td> 1.00000000</td><td>-0.14334979</td><td>-0.14063179</td><td>-0.08788524</td><td>-0.34503830</td><td>-0.25959969</td><td>-0.08996696</td><td>-0.25698448</td><td>-0.21708593</td></tr>\n",
       "\t<tr><th scope=row>departmentFinance</th><td>-0.14334979</td><td> 1.00000000</td><td>-0.04563775</td><td>-0.02852047</td><td>-0.11197163</td><td>-0.08424514</td><td>-0.02919603</td><td>-0.08339645</td><td>-0.07044860</td></tr>\n",
       "\t<tr><th scope=row>departmentHR</th><td>-0.14063179</td><td>-0.04563775</td><td> 1.00000000</td><td>-0.02797970</td><td>-0.10984858</td><td>-0.08264780</td><td>-0.02864245</td><td>-0.08181520</td><td>-0.06911285</td></tr>\n",
       "\t<tr><th scope=row>departmentLegal</th><td>-0.08788524</td><td>-0.02852047</td><td>-0.02797970</td><td> 1.00000000</td><td>-0.06864783</td><td>-0.05164921</td><td>-0.01789957</td><td>-0.05112890</td><td>-0.04319080</td></tr>\n",
       "\t<tr><th scope=row>departmentOperations</th><td>-0.34503830</td><td>-0.11197163</td><td>-0.10984858</td><td>-0.06864783</td><td> 1.00000000</td><td>-0.20277531</td><td>-0.07027389</td><td>-0.20073255</td><td>-0.16956749</td></tr>\n",
       "\t<tr><th scope=row>departmentProcurement</th><td>-0.25959969</td><td>-0.08424514</td><td>-0.08264780</td><td>-0.05164921</td><td>-0.20277531</td><td> 1.00000000</td><td>-0.05287262</td><td>-0.15102703</td><td>-0.12757907</td></tr>\n",
       "\t<tr><th scope=row>department_RD</th><td>-0.08996696</td><td>-0.02919603</td><td>-0.02864245</td><td>-0.01789957</td><td>-0.07027389</td><td>-0.05287262</td><td> 1.00000000</td><td>-0.05233998</td><td>-0.04421385</td></tr>\n",
       "\t<tr><th scope=row>departmentTechnology</th><td>-0.25698448</td><td>-0.08339645</td><td>-0.08181520</td><td>-0.05112890</td><td>-0.20073255</td><td>-0.15102703</td><td>-0.05233998</td><td> 1.00000000</td><td>-0.12629384</td></tr>\n",
       "\t<tr><th scope=row>departmentAnalytics</th><td>-0.21708593</td><td>-0.07044860</td><td>-0.06911285</td><td>-0.04319080</td><td>-0.16956749</td><td>-0.12757907</td><td>-0.04421385</td><td>-0.12629384</td><td> 1.00000000</td></tr>\n",
       "</tbody>\n",
       "</table>\n"
      ],
      "text/latex": [
       "A matrix: 9 × 9 of type dbl\n",
       "\\begin{tabular}{r|lllllllll}\n",
       "  & department\\_SM & departmentFinance & departmentHR & departmentLegal & departmentOperations & departmentProcurement & department\\_RD & departmentTechnology & departmentAnalytics\\\\\n",
       "\\hline\n",
       "\tdepartment\\_SM &  1.00000000 & -0.14334979 & -0.14063179 & -0.08788524 & -0.34503830 & -0.25959969 & -0.08996696 & -0.25698448 & -0.21708593\\\\\n",
       "\tdepartmentFinance & -0.14334979 &  1.00000000 & -0.04563775 & -0.02852047 & -0.11197163 & -0.08424514 & -0.02919603 & -0.08339645 & -0.07044860\\\\\n",
       "\tdepartmentHR & -0.14063179 & -0.04563775 &  1.00000000 & -0.02797970 & -0.10984858 & -0.08264780 & -0.02864245 & -0.08181520 & -0.06911285\\\\\n",
       "\tdepartmentLegal & -0.08788524 & -0.02852047 & -0.02797970 &  1.00000000 & -0.06864783 & -0.05164921 & -0.01789957 & -0.05112890 & -0.04319080\\\\\n",
       "\tdepartmentOperations & -0.34503830 & -0.11197163 & -0.10984858 & -0.06864783 &  1.00000000 & -0.20277531 & -0.07027389 & -0.20073255 & -0.16956749\\\\\n",
       "\tdepartmentProcurement & -0.25959969 & -0.08424514 & -0.08264780 & -0.05164921 & -0.20277531 &  1.00000000 & -0.05287262 & -0.15102703 & -0.12757907\\\\\n",
       "\tdepartment\\_RD & -0.08996696 & -0.02919603 & -0.02864245 & -0.01789957 & -0.07027389 & -0.05287262 &  1.00000000 & -0.05233998 & -0.04421385\\\\\n",
       "\tdepartmentTechnology & -0.25698448 & -0.08339645 & -0.08181520 & -0.05112890 & -0.20073255 & -0.15102703 & -0.05233998 &  1.00000000 & -0.12629384\\\\\n",
       "\tdepartmentAnalytics & -0.21708593 & -0.07044860 & -0.06911285 & -0.04319080 & -0.16956749 & -0.12757907 & -0.04421385 & -0.12629384 &  1.00000000\\\\\n",
       "\\end{tabular}\n"
      ],
      "text/markdown": [
       "\n",
       "A matrix: 9 × 9 of type dbl\n",
       "\n",
       "| <!--/--> | department_SM | departmentFinance | departmentHR | departmentLegal | departmentOperations | departmentProcurement | department_RD | departmentTechnology | departmentAnalytics |\n",
       "|---|---|---|---|---|---|---|---|---|---|\n",
       "| department_SM |  1.00000000 | -0.14334979 | -0.14063179 | -0.08788524 | -0.34503830 | -0.25959969 | -0.08996696 | -0.25698448 | -0.21708593 |\n",
       "| departmentFinance | -0.14334979 |  1.00000000 | -0.04563775 | -0.02852047 | -0.11197163 | -0.08424514 | -0.02919603 | -0.08339645 | -0.07044860 |\n",
       "| departmentHR | -0.14063179 | -0.04563775 |  1.00000000 | -0.02797970 | -0.10984858 | -0.08264780 | -0.02864245 | -0.08181520 | -0.06911285 |\n",
       "| departmentLegal | -0.08788524 | -0.02852047 | -0.02797970 |  1.00000000 | -0.06864783 | -0.05164921 | -0.01789957 | -0.05112890 | -0.04319080 |\n",
       "| departmentOperations | -0.34503830 | -0.11197163 | -0.10984858 | -0.06864783 |  1.00000000 | -0.20277531 | -0.07027389 | -0.20073255 | -0.16956749 |\n",
       "| departmentProcurement | -0.25959969 | -0.08424514 | -0.08264780 | -0.05164921 | -0.20277531 |  1.00000000 | -0.05287262 | -0.15102703 | -0.12757907 |\n",
       "| department_RD | -0.08996696 | -0.02919603 | -0.02864245 | -0.01789957 | -0.07027389 | -0.05287262 |  1.00000000 | -0.05233998 | -0.04421385 |\n",
       "| departmentTechnology | -0.25698448 | -0.08339645 | -0.08181520 | -0.05112890 | -0.20073255 | -0.15102703 | -0.05233998 |  1.00000000 | -0.12629384 |\n",
       "| departmentAnalytics | -0.21708593 | -0.07044860 | -0.06911285 | -0.04319080 | -0.16956749 | -0.12757907 | -0.04421385 | -0.12629384 |  1.00000000 |\n",
       "\n"
      ],
      "text/plain": [
       "                      department_SM departmentFinance departmentHR\n",
       "department_SM          1.00000000   -0.14334979       -0.14063179 \n",
       "departmentFinance     -0.14334979    1.00000000       -0.04563775 \n",
       "departmentHR          -0.14063179   -0.04563775        1.00000000 \n",
       "departmentLegal       -0.08788524   -0.02852047       -0.02797970 \n",
       "departmentOperations  -0.34503830   -0.11197163       -0.10984858 \n",
       "departmentProcurement -0.25959969   -0.08424514       -0.08264780 \n",
       "department_RD         -0.08996696   -0.02919603       -0.02864245 \n",
       "departmentTechnology  -0.25698448   -0.08339645       -0.08181520 \n",
       "departmentAnalytics   -0.21708593   -0.07044860       -0.06911285 \n",
       "                      departmentLegal departmentOperations\n",
       "department_SM         -0.08788524     -0.34503830         \n",
       "departmentFinance     -0.02852047     -0.11197163         \n",
       "departmentHR          -0.02797970     -0.10984858         \n",
       "departmentLegal        1.00000000     -0.06864783         \n",
       "departmentOperations  -0.06864783      1.00000000         \n",
       "departmentProcurement -0.05164921     -0.20277531         \n",
       "department_RD         -0.01789957     -0.07027389         \n",
       "departmentTechnology  -0.05112890     -0.20073255         \n",
       "departmentAnalytics   -0.04319080     -0.16956749         \n",
       "                      departmentProcurement department_RD departmentTechnology\n",
       "department_SM         -0.25959969           -0.08996696   -0.25698448         \n",
       "departmentFinance     -0.08424514           -0.02919603   -0.08339645         \n",
       "departmentHR          -0.08264780           -0.02864245   -0.08181520         \n",
       "departmentLegal       -0.05164921           -0.01789957   -0.05112890         \n",
       "departmentOperations  -0.20277531           -0.07027389   -0.20073255         \n",
       "departmentProcurement  1.00000000           -0.05287262   -0.15102703         \n",
       "department_RD         -0.05287262            1.00000000   -0.05233998         \n",
       "departmentTechnology  -0.15102703           -0.05233998    1.00000000         \n",
       "departmentAnalytics   -0.12757907           -0.04421385   -0.12629384         \n",
       "                      departmentAnalytics\n",
       "department_SM         -0.21708593        \n",
       "departmentFinance     -0.07044860        \n",
       "departmentHR          -0.06911285        \n",
       "departmentLegal       -0.04319080        \n",
       "departmentOperations  -0.16956749        \n",
       "departmentProcurement -0.12757907        \n",
       "department_RD         -0.04421385        \n",
       "departmentTechnology  -0.12629384        \n",
       "departmentAnalytics    1.00000000        "
      ]
     },
     "metadata": {},
     "output_type": "display_data"
    }
   ],
   "source": [
    "#check if there is a correlation between the variables\n",
    "#cor(data_dummy[c(\"department_SM\", \"departmentFinance\", \"departmentHR\", \"departmentLegal\",\n",
    "                 #\"departmentOperations\", \"departmentProcurement\", \"department_RD\", \"departmentTechnology\", \"departmentAnalytics\")])"
   ]
  },
  {
   "cell_type": "code",
   "execution_count": 170,
   "id": "refined-offset",
   "metadata": {},
   "outputs": [],
   "source": [
    "X <- data_dummy[c(\"department_SM\", \"departmentFinance\", \"departmentHR\", \"departmentLegal\",\n",
    "                 \"departmentOperations\", \"departmentProcurement\", \"department_RD\", \"departmentTechnology\", \"departmentAnalytics\")]"
   ]
  },
  {
   "cell_type": "code",
   "execution_count": 171,
   "id": "sized-semiconductor",
   "metadata": {},
   "outputs": [
    {
     "data": {
      "image/png": "[encoded data removed]",
      "text/plain": [
       "Plot with title \"\""
      ]
     },
     "metadata": {},
     "output_type": "display_data"
    }
   ],
   "source": [
    "corrplot(cor(X), order = \"hclust\")\n"
   ]
  },
  {
   "cell_type": "code",
   "execution_count": null,
   "id": "flying-payday",
   "metadata": {},
   "outputs": [],
   "source": [
    "# Potential problems of multicollinearity: vif values are high for education and department (especially for Operations, Sales & Management, Analytics)"
   ]
  },
  {
   "cell_type": "code",
   "execution_count": 125,
   "id": "multiple-summit",
   "metadata": {},
   "outputs": [
    {
     "data": {
      "text/plain": [
       "\n",
       "    0     1 \n",
       "46355  4329 "
      ]
     },
     "metadata": {},
     "output_type": "display_data"
    }
   ],
   "source": [
    "#How many promoted and not promoted\n",
    "table(data_dummy$is_promoted)"
   ]
  },
  {
   "cell_type": "markdown",
   "id": "homeless-trademark",
   "metadata": {},
   "source": [
    "In this step, I wanted to see how many employees are promoted (46355) and how many are not promoted (4329). We can see that no promotion is a more common outcome than the promotion. I would like to see the predict how many employees are promoted. For doing so, I do the following division 4329/(46355+4329 ), and the result presents that the ratio of promotion is about 8,5 percent."
   ]
  },
  {
   "cell_type": "code",
   "execution_count": 27,
   "id": "contained-arena",
   "metadata": {},
   "outputs": [
    {
     "data": {
      "text/html": [
       "0.0854115697261463"
      ],
      "text/latex": [
       "0.0854115697261463"
      ],
      "text/markdown": [
       "0.0854115697261463"
      ],
      "text/plain": [
       "[1] 0.08541157"
      ]
     },
     "metadata": {},
     "output_type": "display_data"
    }
   ],
   "source": [
    "#ratio of getting promotion (about 8,5 percent)\n",
    "4329/(46355+4329 )"
   ]
  },
  {
   "cell_type": "markdown",
   "id": "eligible-supervision",
   "metadata": {},
   "source": [
    "Here, I randomly split the dataset into training and testing sets. I put 75 % of the data in the training set, which I will use to build the model, and 25 % in the testing set to test my model. The split function randomly splits the data. Moreover, it makes sure that the outcome variable is well-balanced in each piece. By randomly splitting the data, I will be able to measure out-of-sample accuracy. There is a TRUE and FALSE for value for each of the observations. TRUE means that I must put it into the training set and FALSE implies that I should put it into the testing set. The subset function helps me to create these Train and Test sets."
   ]
  },
  {
   "cell_type": "code",
   "execution_count": 229,
   "id": "utility-allah",
   "metadata": {},
   "outputs": [
    {
     "data": {
      "text/html": [
       "<style>\n",
       ".list-inline {list-style: none; margin:0; padding: 0}\n",
       ".list-inline>li {display: inline-block}\n",
       ".list-inline>li:not(:last-child)::after {content: \"\\00b7\"; padding: 0 .5ex}\n",
       "</style>\n",
       "<ol class=list-inline><li>TRUE</li><li>TRUE</li><li>TRUE</li><li>TRUE</li><li>FALSE</li><li>FALSE</li><li>TRUE</li><li>TRUE</li><li>TRUE</li><li>FALSE</li><li>TRUE</li><li>TRUE</li><li>TRUE</li><li>TRUE</li><li>TRUE</li><li>TRUE</li><li>TRUE</li><li>TRUE</li><li>TRUE</li><li>FALSE</li><li>TRUE</li><li>TRUE</li><li>FALSE</li><li>FALSE</li><li>FALSE</li><li>TRUE</li><li>TRUE</li><li>FALSE</li><li>TRUE</li><li>TRUE</li><li>TRUE</li></ol>\n"
      ],
      "text/latex": [
       "\\begin{enumerate*}\n",
       "\\item TRUE\n",
       "\\item TRUE\n",
       "\\item TRUE\n",
       "\\item TRUE\n",
       "\\item FALSE\n",
       "\\item FALSE\n",
       "\\item TRUE\n",
       "\\item TRUE\n",
       "\\item TRUE\n",
       "\\item FALSE\n",
       "\\item TRUE\n",
       "\\item TRUE\n",
       "\\item TRUE\n",
       "\\item TRUE\n",
       "\\item TRUE\n",
       "\\item TRUE\n",
       "\\item TRUE\n",
       "\\item TRUE\n",
       "\\item TRUE\n",
       "\\item FALSE\n",
       "\\item TRUE\n",
       "\\item TRUE\n",
       "\\item FALSE\n",
       "\\item FALSE\n",
       "\\item FALSE\n",
       "\\item TRUE\n",
       "\\item TRUE\n",
       "\\item FALSE\n",
       "\\item TRUE\n",
       "\\item TRUE\n",
       "\\item TRUE\n",
       "\\end{enumerate*}\n"
      ],
      "text/markdown": [
       "1. TRUE\n",
       "2. TRUE\n",
       "3. TRUE\n",
       "4. TRUE\n",
       "5. FALSE\n",
       "6. FALSE\n",
       "7. TRUE\n",
       "8. TRUE\n",
       "9. TRUE\n",
       "10. FALSE\n",
       "11. TRUE\n",
       "12. TRUE\n",
       "13. TRUE\n",
       "14. TRUE\n",
       "15. TRUE\n",
       "16. TRUE\n",
       "17. TRUE\n",
       "18. TRUE\n",
       "19. TRUE\n",
       "20. FALSE\n",
       "21. TRUE\n",
       "22. TRUE\n",
       "23. FALSE\n",
       "24. FALSE\n",
       "25. FALSE\n",
       "26. TRUE\n",
       "27. TRUE\n",
       "28. FALSE\n",
       "29. TRUE\n",
       "30. TRUE\n",
       "31. TRUE\n",
       "\n",
       "\n"
      ],
      "text/plain": [
       " [1]  TRUE  TRUE  TRUE  TRUE FALSE FALSE  TRUE  TRUE  TRUE FALSE  TRUE  TRUE\n",
       "[13]  TRUE  TRUE  TRUE  TRUE  TRUE  TRUE  TRUE FALSE  TRUE  TRUE FALSE FALSE\n",
       "[25] FALSE  TRUE  TRUE FALSE  TRUE  TRUE  TRUE"
      ]
     },
     "metadata": {},
     "output_type": "display_data"
    }
   ],
   "source": [
    "# Randomly split data\n",
    "set.seed(88)\n",
    "split = sample.split(data_dummy, SplitRatio = 0.75)\n",
    "split"
   ]
  },
  {
   "cell_type": "code",
   "execution_count": 230,
   "id": "early-salon",
   "metadata": {},
   "outputs": [],
   "source": [
    "# Create training and testing sets\n",
    "Train = subset(data_dummy, split == TRUE)\n",
    "Test = subset(data_dummy, split == FALSE)"
   ]
  },
  {
   "cell_type": "markdown",
   "id": "environmental-republic",
   "metadata": {},
   "source": [
    "In the following step, I build a logistic model again by using the training set Train. After creating a logistic regression on a training set, I make predictions for this model and summarize it. In summary, I focus on the coefficients (betas). We see that the results are similar to the previous ones. Almost all coefficients are significant. We can observe from the coefficient table that higher education level, awards won in the past, and average training scores increase promotion probability. We can see that the promotion probability increases in the Sales and Marketing department comparing to the Analytics department. Also, the results suggest that gender does not play a role in predicting the probability of promotion as this variable is insignificant.\n",
    "\n",
    "The last thing I want to look at in the output is the AIC value. This measure is like Adjusted R-squared. It takes into account the number of variables used compared to the number of observations. However, it can only be compared between models on the same dataset. However, it provides means for model selection. The preferred model is the model with a lower AIC score. "
   ]
  },
  {
   "cell_type": "markdown",
   "id": "smoking-tactics",
   "metadata": {},
   "source": [
    "<b> Method 1: Logistic Regression </b>"
   ]
  },
  {
   "cell_type": "code",
   "execution_count": 231,
   "id": "conscious-experience",
   "metadata": {},
   "outputs": [],
   "source": [
    "# Logistic Regression Model\n",
    "model_logit_8 <- glm(formula = is_promoted ~ age + previous_year_rating +awards_won + \n",
    "                     avg_training_score + genderm + education_Bachelor + educationMaster_above + \n",
    "                     department_SM + departmentFinance + departmentHR + departmentLegal + \n",
    "                     departmentOperations + departmentOperations + departmentProcurement + department_RD + \n",
    "                     departmentTechnology,  data = Train, family = binomial(link = \"logit\"))\n"
   ]
  },
  {
   "cell_type": "code",
   "execution_count": 232,
   "id": "critical-white",
   "metadata": {
    "scrolled": false
   },
   "outputs": [
    {
     "data": {
      "text/plain": [
       "\n",
       "Call:\n",
       "glm(formula = is_promoted ~ age + previous_year_rating + awards_won + \n",
       "    avg_training_score + genderm + education_Bachelor + educationMaster_above + \n",
       "    department_SM + departmentFinance + departmentHR + departmentLegal + \n",
       "    departmentOperations + departmentOperations + departmentProcurement + \n",
       "    department_RD + departmentTechnology, family = binomial(link = \"logit\"), \n",
       "    data = Train)\n",
       "\n",
       "Deviance Residuals: \n",
       "    Min       1Q   Median       3Q      Max  \n",
       "-1.7051  -0.3951  -0.2756  -0.1826   3.3527  \n",
       "\n",
       "Coefficients:\n",
       "                        Estimate Std. Error z value Pr(>|z|)    \n",
       "(Intercept)           -26.483236   0.516893 -51.235  < 2e-16 ***\n",
       "age                    -0.021712   0.003301  -6.578 4.76e-11 ***\n",
       "previous_year_rating    0.518572   0.019882  26.083  < 2e-16 ***\n",
       "awards_won              1.712440   0.098663  17.357  < 2e-16 ***\n",
       "avg_training_score      0.261723   0.005589  46.830  < 2e-16 ***\n",
       "genderm                -0.026999   0.048502  -0.557   0.5778    \n",
       "education_Bachelor      0.510409   0.125159   4.078 4.54e-05 ***\n",
       "educationMaster_above   0.786311   0.131185   5.994 2.05e-09 ***\n",
       "department_SM           8.757550   0.204713  42.780  < 2e-16 ***\n",
       "departmentFinance       6.048157   0.180806  33.451  < 2e-16 ***\n",
       "departmentHR            8.333214   0.236911  35.174  < 2e-16 ***\n",
       "departmentLegal         5.881107   0.242835  24.219  < 2e-16 ***\n",
       "departmentOperations    6.187715   0.155652  39.753  < 2e-16 ***\n",
       "departmentProcurement   3.771663   0.117342  32.142  < 2e-16 ***\n",
       "department_RD          -0.417487   0.172550  -2.420   0.0155 *  \n",
       "departmentTechnology    1.478043   0.085563  17.274  < 2e-16 ***\n",
       "---\n",
       "Signif. codes:  0 '***' 0.001 '**' 0.01 '*' 0.05 '.' 0.1 ' ' 1\n",
       "\n",
       "(Dispersion parameter for binomial family taken to be 1)\n",
       "\n",
       "    Null deviance: 21960  on 37603  degrees of freedom\n",
       "Residual deviance: 16311  on 37588  degrees of freedom\n",
       "AIC: 16343\n",
       "\n",
       "Number of Fisher Scoring iterations: 6\n"
      ]
     },
     "metadata": {},
     "output_type": "display_data"
    }
   ],
   "source": [
    "#summary of the model\n",
    "summary(model_logit_8)"
   ]
  },
  {
   "cell_type": "markdown",
   "id": "ideal-indian",
   "metadata": {},
   "source": [
    "In the following step, I predict a training set. It gives me probabilities. Then, I look at the statistical summary of my predictions. As I am expecting probabilities, the values in the summary table should be between zero and one. The results suggest that the minimum value is 0.000658, and the maximum value is 0.999997. Then, I use the tapply function, which gives me average predictions for each of the actual outcomes. According to the results, the average probability of being not promoted is 0.061, and the average possibility of being promoted is 0.34."
   ]
  },
  {
   "cell_type": "code",
   "execution_count": 279,
   "id": "funny-frequency",
   "metadata": {},
   "outputs": [],
   "source": [
    "# Make predictions on training set\n",
    "predictTrain = predict(model_logit_8, type=\"response\")"
   ]
  },
  {
   "cell_type": "code",
   "execution_count": 234,
   "id": "thorough-renewal",
   "metadata": {},
   "outputs": [
    {
     "data": {
      "text/plain": [
       "     Min.   1st Qu.    Median      Mean   3rd Qu.      Max. \n",
       "0.0007011 0.0221878 0.0450381 0.0854962 0.0892204 0.9999943 "
      ]
     },
     "metadata": {},
     "output_type": "display_data"
    }
   ],
   "source": [
    "# Analyze predictions\n",
    "summary(predictTrain)"
   ]
  },
  {
   "cell_type": "code",
   "execution_count": 235,
   "id": "rental-wichita",
   "metadata": {},
   "outputs": [
    {
     "data": {
      "text/html": [
       "<style>\n",
       ".dl-inline {width: auto; margin:0; padding: 0}\n",
       ".dl-inline>dt, .dl-inline>dd {float: none; width: auto; display: inline-block}\n",
       ".dl-inline>dt::after {content: \":\\0020\"; padding-right: .5ex}\n",
       ".dl-inline>dt:not(:first-of-type) {padding-left: .5ex}\n",
       "</style><dl class=dl-inline><dt>0</dt><dd>0.0621082185350184</dd><dt>1</dt><dd>0.335664221759317</dd></dl>\n"
      ],
      "text/latex": [
       "\\begin{description*}\n",
       "\\item[0] 0.0621082185350184\n",
       "\\item[1] 0.335664221759317\n",
       "\\end{description*}\n"
      ],
      "text/markdown": [
       "0\n",
       ":   0.06210821853501841\n",
       ":   0.335664221759317\n",
       "\n"
      ],
      "text/plain": [
       "         0          1 \n",
       "0.06210822 0.33566422 "
      ]
     },
     "metadata": {},
     "output_type": "display_data"
    }
   ],
   "source": [
    "#see whether we are predicting higher probabilities for the actual promotion cases as we expect. Higher prediction prob for no promotion\n",
    "tapply(predictTrain, Train$is_promoted, mean)"
   ]
  },
  {
   "cell_type": "markdown",
   "id": "sound-insured",
   "metadata": {},
   "source": [
    "The following steps are for <b> threshold </b>. Previously, we have seen that the outcome of logistic regression is a probability. Frequently, we would like to make an actual prediction. Should we predict 1 for promotion, or should we predict 0 for no promotion? I can convert the probabilities to predictions using a threshold value. If the probability of promotion is more significant than this threshold value, we predict a promotion. But if the likelihood of promotion is less than this threshold value, we foresee no promotion. I do the following steps to see different levels (0.5, 0.7, and 0.2) of threshold and compare when I have fewer predicting errors."
   ]
  },
  {
   "cell_type": "code",
   "execution_count": 236,
   "id": "simple-favorite",
   "metadata": {},
   "outputs": [
    {
     "data": {
      "text/plain": [
       "   \n",
       "    FALSE  TRUE\n",
       "  0 34345    44\n",
       "  1  2252   963"
      ]
     },
     "metadata": {},
     "output_type": "display_data"
    }
   ],
   "source": [
    "# Confusion matrix for threshold of 0.5\n",
    "table(Train$is_promoted, predictTrain > 0.5)"
   ]
  },
  {
   "cell_type": "code",
   "execution_count": 237,
   "id": "wired-ranking",
   "metadata": {},
   "outputs": [
    {
     "data": {
      "text/html": [
       "0.302719200887902"
      ],
      "text/latex": [
       "0.302719200887902"
      ],
      "text/markdown": [
       "0.302719200887902"
      ],
      "text/plain": [
       "[1] 0.3027192"
      ]
     },
     "metadata": {},
     "output_type": "display_data"
    },
    {
     "data": {
      "text/html": [
       "0.998498653965624"
      ],
      "text/latex": [
       "0.998498653965624"
      ],
      "text/markdown": [
       "0.998498653965624"
      ],
      "text/plain": [
       "[1] 0.9984987"
      ]
     },
     "metadata": {},
     "output_type": "display_data"
    }
   ],
   "source": [
    "# Sensitivity and specificity\n",
    "1091/(1091+2513)\n",
    "38574/(38574+58)"
   ]
  },
  {
   "cell_type": "code",
   "execution_count": 238,
   "id": "heard-backup",
   "metadata": {},
   "outputs": [
    {
     "data": {
      "text/html": [
       "0.939127758310446"
      ],
      "text/latex": [
       "0.939127758310446"
      ],
      "text/markdown": [
       "0.939127758310446"
      ],
      "text/plain": [
       "[1] 0.9391278"
      ]
     },
     "metadata": {},
     "output_type": "display_data"
    },
    {
     "data": {
      "text/html": [
       "0.914669949805853"
      ],
      "text/latex": [
       "0.914669949805853"
      ],
      "text/markdown": [
       "0.914669949805853"
      ],
      "text/plain": [
       "[1] 0.9146699"
      ]
     },
     "metadata": {},
     "output_type": "display_data"
    },
    {
     "data": {
      "text/html": [
       "0.0608722416895539"
      ],
      "text/latex": [
       "0.0608722416895539"
      ],
      "text/markdown": [
       "0.0608722416895539"
      ],
      "text/plain": [
       "[1] 0.06087224"
      ]
     },
     "metadata": {},
     "output_type": "display_data"
    }
   ],
   "source": [
    "#overall accuracy rate for 0.5 (accuracy of predicting the model)\n",
    "(1091+38574)/(1091+38574+2513+58)\n",
    "\n",
    "#baseline model of getting accuracy\n",
    "(38574+58)/(1091+38574+2513+58)\n",
    "\n",
    "#overall error rate for 0.5\n",
    "(2513+58)/(1091+38574+2513+58)"
   ]
  },
  {
   "cell_type": "code",
   "execution_count": 239,
   "id": "normal-soldier",
   "metadata": {},
   "outputs": [
    {
     "data": {
      "text/plain": [
       "   \n",
       "    FALSE  TRUE\n",
       "  0 34384     5\n",
       "  1  2517   698"
      ]
     },
     "metadata": {},
     "output_type": "display_data"
    }
   ],
   "source": [
    "# Confusion matrix for threshold of 0.7\n",
    "table(Train$is_promoted, predictTrain > 0.7)"
   ]
  },
  {
   "cell_type": "code",
   "execution_count": 240,
   "id": "stuck-guidance",
   "metadata": {},
   "outputs": [
    {
     "data": {
      "text/html": [
       "0.220588235294118"
      ],
      "text/latex": [
       "0.220588235294118"
      ],
      "text/markdown": [
       "0.220588235294118"
      ],
      "text/plain": [
       "[1] 0.2205882"
      ]
     },
     "metadata": {},
     "output_type": "display_data"
    },
    {
     "data": {
      "text/html": [
       "0.999792917788362"
      ],
      "text/latex": [
       "0.999792917788362"
      ],
      "text/markdown": [
       "0.999792917788362"
      ],
      "text/plain": [
       "[1] 0.9997929"
      ]
     },
     "metadata": {},
     "output_type": "display_data"
    }
   ],
   "source": [
    "# Sensitivity and specificity\n",
    "795/(795+2809)\n",
    "38624/(38624+8)"
   ]
  },
  {
   "cell_type": "code",
   "execution_count": 241,
   "id": "strange-bottle",
   "metadata": {},
   "outputs": [
    {
     "data": {
      "text/html": [
       "0.933303343119614"
      ],
      "text/latex": [
       "0.933303343119614"
      ],
      "text/markdown": [
       "0.933303343119614"
      ],
      "text/plain": [
       "[1] 0.9333033"
      ]
     },
     "metadata": {},
     "output_type": "display_data"
    },
    {
     "data": {
      "text/html": [
       "0.0666966568803864"
      ],
      "text/latex": [
       "0.0666966568803864"
      ],
      "text/markdown": [
       "0.0666966568803864"
      ],
      "text/plain": [
       "[1] 0.06669666"
      ]
     },
     "metadata": {},
     "output_type": "display_data"
    }
   ],
   "source": [
    "#overall accuracy rate for 0.7\n",
    "(795+38624)/(795+38624+8+2809)\n",
    "#overall error rate for 0.5\n",
    "(8+2809)/(795+38624+8+2809)"
   ]
  },
  {
   "cell_type": "code",
   "execution_count": 242,
   "id": "intensive-zealand",
   "metadata": {},
   "outputs": [
    {
     "data": {
      "text/plain": [
       "   \n",
       "    FALSE  TRUE\n",
       "  0 32994  1395\n",
       "  1  1773  1442"
      ]
     },
     "metadata": {},
     "output_type": "display_data"
    }
   ],
   "source": [
    "# Confusion matrix for threshold of 0.2\n",
    "table(Train$is_promoted, predictTrain > 0.2)"
   ]
  },
  {
   "cell_type": "code",
   "execution_count": 243,
   "id": "committed-exhibit",
   "metadata": {},
   "outputs": [
    {
     "data": {
      "text/html": [
       "0.45338512763596"
      ],
      "text/latex": [
       "0.45338512763596"
      ],
      "text/markdown": [
       "0.45338512763596"
      ],
      "text/plain": [
       "[1] 0.4533851"
      ]
     },
     "metadata": {},
     "output_type": "display_data"
    },
    {
     "data": {
      "text/html": [
       "0.959722509836405"
      ],
      "text/latex": [
       "0.959722509836405"
      ],
      "text/markdown": [
       "0.959722509836405"
      ],
      "text/plain": [
       "[1] 0.9597225"
      ]
     },
     "metadata": {},
     "output_type": "display_data"
    }
   ],
   "source": [
    "# Sensitivity and specificity\n",
    "1634/(1634+1970)\n",
    "37076/(37076+1556)"
   ]
  },
  {
   "cell_type": "code",
   "execution_count": 244,
   "id": "enhanced-tomato",
   "metadata": {
    "scrolled": true
   },
   "outputs": [
    {
     "data": {
      "text/html": [
       "0.916516715598068"
      ],
      "text/latex": [
       "0.916516715598068"
      ],
      "text/markdown": [
       "0.916516715598068"
      ],
      "text/plain": [
       "[1] 0.9165167"
      ]
     },
     "metadata": {},
     "output_type": "display_data"
    },
    {
     "data": {
      "text/html": [
       "0.083483284401932"
      ],
      "text/latex": [
       "0.083483284401932"
      ],
      "text/markdown": [
       "0.083483284401932"
      ],
      "text/plain": [
       "[1] 0.08348328"
      ]
     },
     "metadata": {},
     "output_type": "display_data"
    }
   ],
   "source": [
    "#overall accuracy rate for 0.2\n",
    "(1634+37076)/(1634+37076+1556+1970)\n",
    "#overall error rate for 0.5\n",
    "(1556+1970)/(1634+37076+1556+1970)"
   ]
  },
  {
   "cell_type": "markdown",
   "id": "complex-sheriff",
   "metadata": {},
   "source": [
    "<b> ROC curves (A Receiver Operator Curve) </b>\n",
    "ROC curve helps to decide the value of the threshold."
   ]
  },
  {
   "cell_type": "code",
   "execution_count": 245,
   "id": "united-tsunami",
   "metadata": {},
   "outputs": [],
   "source": [
    "ROCRpred = prediction(predictTrain, Train$is_promoted)"
   ]
  },
  {
   "cell_type": "code",
   "execution_count": 246,
   "id": "incorrect-lloyd",
   "metadata": {},
   "outputs": [
    {
     "data": {
      "text/html": [
       "0.782678274233875"
      ],
      "text/latex": [
       "0.782678274233875"
      ],
      "text/markdown": [
       "0.782678274233875"
      ],
      "text/plain": [
       "[1] 0.7826783"
      ]
     },
     "metadata": {},
     "output_type": "display_data"
    }
   ],
   "source": [
    "#gives us AUC value of our set (about 79% which means that the model can differentiate between promoted and not promoted ones pretty well)\n",
    "as.numeric(performance(ROCRpred, \"auc\")@y.values)"
   ]
  },
  {
   "cell_type": "code",
   "execution_count": 247,
   "id": "informed-holocaust",
   "metadata": {},
   "outputs": [],
   "source": [
    "ROCRperf = performance(ROCRpred, \"tpr\", \"fpr\")"
   ]
  },
  {
   "cell_type": "code",
   "execution_count": 248,
   "id": "vulnerable-aberdeen",
   "metadata": {},
   "outputs": [
    {
     "data": {
      "image/png": "[encoded data removed]",
      "text/plain": [
       "plot without title"
      ]
     },
     "metadata": {},
     "output_type": "display_data"
    }
   ],
   "source": [
    "plot(ROCRperf, colorize=TRUE, print.cutoffs.at=seq(0,1,0.1), text.adj=c(-0.2,1.7))"
   ]
  },
  {
   "cell_type": "markdown",
   "id": "above-petite",
   "metadata": {},
   "source": [
    "In the following step, I make predictions on a testing set Test."
   ]
  },
  {
   "cell_type": "code",
   "execution_count": 289,
   "id": "growing-kuwait",
   "metadata": {
    "scrolled": true
   },
   "outputs": [
    {
     "data": {
      "text/html": [
       "<table>\n",
       "<caption>A data.frame: 6 × 1</caption>\n",
       "<thead>\n",
       "\t<tr><th></th><th scope=col>Prob</th></tr>\n",
       "\t<tr><th></th><th scope=col>&lt;dbl&gt;</th></tr>\n",
       "</thead>\n",
       "<tbody>\n",
       "\t<tr><th scope=row>5</th><td>0.007865792</td></tr>\n",
       "\t<tr><th scope=row>6</th><td>0.053619130</td></tr>\n",
       "\t<tr><th scope=row>10</th><td>0.281858286</td></tr>\n",
       "\t<tr><th scope=row>21</th><td>0.141467887</td></tr>\n",
       "\t<tr><th scope=row>25</th><td>0.076702000</td></tr>\n",
       "\t<tr><th scope=row>26</th><td>0.311707131</td></tr>\n",
       "</tbody>\n",
       "</table>\n"
      ],
      "text/latex": [
       "A data.frame: 6 × 1\n",
       "\\begin{tabular}{r|l}\n",
       "  & Prob\\\\\n",
       "  & <dbl>\\\\\n",
       "\\hline\n",
       "\t5 & 0.007865792\\\\\n",
       "\t6 & 0.053619130\\\\\n",
       "\t10 & 0.281858286\\\\\n",
       "\t21 & 0.141467887\\\\\n",
       "\t25 & 0.076702000\\\\\n",
       "\t26 & 0.311707131\\\\\n",
       "\\end{tabular}\n"
      ],
      "text/markdown": [
       "\n",
       "A data.frame: 6 × 1\n",
       "\n",
       "| <!--/--> | Prob &lt;dbl&gt; |\n",
       "|---|---|\n",
       "| 5 | 0.007865792 |\n",
       "| 6 | 0.053619130 |\n",
       "| 10 | 0.281858286 |\n",
       "| 21 | 0.141467887 |\n",
       "| 25 | 0.076702000 |\n",
       "| 26 | 0.311707131 |\n",
       "\n"
      ],
      "text/plain": [
       "   Prob       \n",
       "5  0.007865792\n",
       "6  0.053619130\n",
       "10 0.281858286\n",
       "21 0.141467887\n",
       "25 0.076702000\n",
       "26 0.311707131"
      ]
     },
     "metadata": {},
     "output_type": "display_data"
    }
   ],
   "source": [
    "# Predicting the model using test data\n",
    "Prob <-predict(model_logit_8,Test,type =\"response\")\n",
    "prob1<- data.frame(Prob)\n",
    "head(prob1)"
   ]
  },
  {
   "cell_type": "code",
   "execution_count": 291,
   "id": "partial-walter",
   "metadata": {},
   "outputs": [
    {
     "data": {
      "text/html": [
       "<table>\n",
       "<caption>A matrix: 6 × 1 of type dbl</caption>\n",
       "<thead>\n",
       "\t<tr><th></th><th scope=col>Prob</th></tr>\n",
       "</thead>\n",
       "<tbody>\n",
       "\t<tr><th scope=row>5</th><td>0</td></tr>\n",
       "\t<tr><th scope=row>6</th><td>0</td></tr>\n",
       "\t<tr><th scope=row>10</th><td>0</td></tr>\n",
       "\t<tr><th scope=row>21</th><td>0</td></tr>\n",
       "\t<tr><th scope=row>25</th><td>0</td></tr>\n",
       "\t<tr><th scope=row>26</th><td>0</td></tr>\n",
       "</tbody>\n",
       "</table>\n"
      ],
      "text/latex": [
       "A matrix: 6 × 1 of type dbl\n",
       "\\begin{tabular}{r|l}\n",
       "  & Prob\\\\\n",
       "\\hline\n",
       "\t5 & 0\\\\\n",
       "\t6 & 0\\\\\n",
       "\t10 & 0\\\\\n",
       "\t21 & 0\\\\\n",
       "\t25 & 0\\\\\n",
       "\t26 & 0\\\\\n",
       "\\end{tabular}\n"
      ],
      "text/markdown": [
       "\n",
       "A matrix: 6 × 1 of type dbl\n",
       "\n",
       "| <!--/--> | Prob |\n",
       "|---|---|\n",
       "| 5 | 0 |\n",
       "| 6 | 0 |\n",
       "| 10 | 0 |\n",
       "| 21 | 0 |\n",
       "| 25 | 0 |\n",
       "| 26 | 0 |\n",
       "\n"
      ],
      "text/plain": [
       "   Prob\n",
       "5  0   \n",
       "6  0   \n",
       "10 0   \n",
       "21 0   \n",
       "25 0   \n",
       "26 0   "
      ]
     },
     "metadata": {},
     "output_type": "display_data"
    }
   ],
   "source": [
    "# setting the cutoff for probability values\n",
    "results <- ifelse(prob1 > 0.7,1,0)\n",
    "head(results)"
   ]
  },
  {
   "cell_type": "markdown",
   "id": "stunning-alert",
   "metadata": {},
   "source": [
    "<b>Predictive Value Validation</b>"
   ]
  },
  {
   "cell_type": "code",
   "execution_count": 251,
   "id": "cardiac-content",
   "metadata": {},
   "outputs": [
    {
     "data": {
      "text/plain": [
       "   results\n",
       "        0     1\n",
       "  0 11966     0\n",
       "  1   883   231"
      ]
     },
     "metadata": {},
     "output_type": "display_data"
    }
   ],
   "source": [
    "#Display the confusion matrix or classification table\n",
    "table(Test$is_promoted, results)"
   ]
  },
  {
   "cell_type": "code",
   "execution_count": 252,
   "id": "falling-criterion",
   "metadata": {},
   "outputs": [
    {
     "data": {
      "text/html": [
       "0.0675076452599388"
      ],
      "text/latex": [
       "0.0675076452599388"
      ],
      "text/markdown": [
       "0.0675076452599388"
      ],
      "text/plain": [
       "[1] 0.06750765"
      ]
     },
     "metadata": {},
     "output_type": "display_data"
    }
   ],
   "source": [
    "#Calculating the error rate\n",
    "misclasificationerror <- mean(results != Test$is_promoted)\n",
    "misclasificationerror"
   ]
  },
  {
   "cell_type": "code",
   "execution_count": 253,
   "id": "senior-bulgarian",
   "metadata": {},
   "outputs": [
    {
     "name": "stdout",
     "output_type": "stream",
     "text": [
      "[1] 0.9324924\n"
     ]
    }
   ],
   "source": [
    "# Calculating the accuracy rate\n",
    "accuracyrate <- 1 - misclasificationerror\n",
    "print(accuracyrate)"
   ]
  },
  {
   "cell_type": "code",
   "execution_count": 254,
   "id": "adolescent-diana",
   "metadata": {
    "scrolled": false
   },
   "outputs": [
    {
     "data": {
      "text/html": [
       "0.780106059028421"
      ],
      "text/latex": [
       "0.780106059028421"
      ],
      "text/markdown": [
       "0.780106059028421"
      ],
      "text/plain": [
       "[1] 0.7801061"
      ]
     },
     "metadata": {},
     "output_type": "display_data"
    },
    {
     "data": {
      "image/png": "[encoded data removed]",
      "text/plain": [
       "plot without title"
      ]
     },
     "metadata": {},
     "output_type": "display_data"
    }
   ],
   "source": [
    "# Compute AUC for predicting Default with the model b\n",
    "prob <-predict(model_logit_8,Test,type =\"response\")\n",
    "pred <- prediction(prob, Test$is_promoted)\n",
    "pmf <- performance(pred, measure = \"tpr\", x.measure = \"fpr\")\n",
    "plot(pmf,col= \"red\" )\n",
    "auc <- performance(pred, measure = \"auc\")\n",
    "auc <- auc@y.values[[1]]\n",
    "auc"
   ]
  },
  {
   "cell_type": "markdown",
   "id": "sustained-niger",
   "metadata": {},
   "source": [
    "Around 76 % predictive accuracy rate - higher than 70% considered as the model with high predictive accuracy)"
   ]
  },
  {
   "cell_type": "markdown",
   "id": "intellectual-kentucky",
   "metadata": {},
   "source": [
    "<b>Method 2: CART (Classification and Regression Trees)</b>\n",
    "\n",
    "Usually, it is difficult to interpret the logistic regression and understand which factors are more critical due to the scales of the variables and the possibility of multicollinearity. That is why as a second method, I use CART. This method builds a tree by splitting the independent variables' values. To forecast the outcome for a new observation, I can follow the tree's splits at the end and predict the most frequent outcome in the training set that followed the same path. Also, the CART model does not assume a linear model as it does the logistic regression."
   ]
  },
  {
   "cell_type": "code",
   "execution_count": 255,
   "id": "architectural-constant",
   "metadata": {
    "scrolled": true
   },
   "outputs": [],
   "source": [
    "#load the library\n",
    "library(rpart.plot)"
   ]
  },
  {
   "cell_type": "markdown",
   "id": "vital-briefs",
   "metadata": {},
   "source": [
    "Here, creating the CART model using the rpart function"
   ]
  },
  {
   "cell_type": "code",
   "execution_count": 256,
   "id": "flying-killer",
   "metadata": {},
   "outputs": [],
   "source": [
    "#Classification Tree\n",
    "Tree = rpart(formula = is_promoted ~ age + previous_year_rating +awards_won + \n",
    "                     avg_training_score + genderm + educationBelow_Secondary+education_Bachelor + educationMaster_above + \n",
    "                     departmentAnalytics+department_SM + departmentFinance + departmentHR + departmentLegal + \n",
    "                     departmentOperations + departmentOperations + departmentProcurement + department_RD + \n",
    "                     departmentTechnology + recruitment_channelother + recruitment_channelreferred + recruitment_channelsourcing,  data = Train, method = 'class')"
   ]
  },
  {
   "cell_type": "code",
   "execution_count": 257,
   "id": "north-success",
   "metadata": {
    "scrolled": false
   },
   "outputs": [
    {
     "data": {
      "image/png": "[encoded data removed]",
      "text/plain": [
       "plot without title"
      ]
     },
     "metadata": {},
     "output_type": "display_data"
    }
   ],
   "source": [
    "#Plot the tree\n",
    "prp(Tree)"
   ]
  },
  {
   "cell_type": "markdown",
   "id": "promising-chapter",
   "metadata": {},
   "source": [
    "Here, the CART model is making predictions using the Test set."
   ]
  },
  {
   "cell_type": "code",
   "execution_count": 258,
   "id": "nearby-artist",
   "metadata": {},
   "outputs": [],
   "source": [
    "#Predictions\n",
    "PredictCART = predict(Tree, newdata = Test,type = 'class')"
   ]
  },
  {
   "cell_type": "code",
   "execution_count": 259,
   "id": "sitting-transportation",
   "metadata": {},
   "outputs": [
    {
     "data": {
      "text/plain": [
       "   PredictCART\n",
       "        0     1\n",
       "  0 11950    16\n",
       "  1   982   132"
      ]
     },
     "metadata": {},
     "output_type": "display_data"
    }
   ],
   "source": [
    "#Buiding a confusion matrix\n",
    "table(Test$is_promoted, PredictCART)"
   ]
  },
  {
   "cell_type": "code",
   "execution_count": 260,
   "id": "loose-buying",
   "metadata": {
    "scrolled": true
   },
   "outputs": [
    {
     "data": {
      "text/html": [
       "0.921519886363636"
      ],
      "text/latex": [
       "0.921519886363636"
      ],
      "text/markdown": [
       "0.921519886363636"
      ],
      "text/plain": [
       "[1] 0.9215199"
      ]
     },
     "metadata": {},
     "output_type": "display_data"
    }
   ],
   "source": [
    "# Accuracy of CART model\n",
    "(7709+76)/(7709+14+649+76)"
   ]
  },
  {
   "cell_type": "code",
   "execution_count": 261,
   "id": "mounted-preparation",
   "metadata": {},
   "outputs": [
    {
     "data": {
      "image/png": "[encoded data removed]",
      "text/plain": [
       "plot without title"
      ]
     },
     "metadata": {},
     "output_type": "display_data"
    }
   ],
   "source": [
    "#Generate a ROC curve to evaluate the model\n",
    "PredictROC = predict(Tree, newdata = Test)\n",
    "\n",
    "pred = prediction(PredictROC[,2], Test$is_promoted)\n",
    "perf = performance(pred, \"tpr\", \"fpr\")\n",
    "plot(perf)"
   ]
  },
  {
   "cell_type": "code",
   "execution_count": 265,
   "id": "disciplinary-wisdom",
   "metadata": {},
   "outputs": [
    {
     "data": {
      "text/plain": [
       "           \n",
       "PredictCART     0     1\n",
       "          0 11950   982\n",
       "          1    16   132"
      ]
     },
     "metadata": {},
     "output_type": "display_data"
    }
   ],
   "source": [
    "#Making the confusion matrix where I can see the test set values with the predicted values for the decision tree model\n",
    "cm_dt <- table(PredictCART, Test$is_promoted)\n",
    "cm_dt"
   ]
  },
  {
   "cell_type": "markdown",
   "id": "royal-reminder",
   "metadata": {},
   "source": [
    "The model has accurately predicted 7709 observations, indicating that the model misclassified 649 of the values."
   ]
  },
  {
   "cell_type": "code",
   "execution_count": 266,
   "id": "turkish-platinum",
   "metadata": {},
   "outputs": [
    {
     "data": {
      "text/html": [
       "0.96"
      ],
      "text/latex": [
       "0.96"
      ],
      "text/markdown": [
       "0.96"
      ],
      "text/plain": [
       "[1] 0.96"
      ]
     },
     "metadata": {},
     "output_type": "display_data"
    }
   ],
   "source": [
    "#Accuracy (around 96 %)\n",
    "accuracy_dt = round((cm_dt[1,1] + cm_dt[1,1])/\n",
    "  (cm_dt[1,1] + cm_dt[1,1] + cm_dt[2,1] + cm_dt[1,2]),2)\n",
    "accuracy_dt"
   ]
  },
  {
   "cell_type": "markdown",
   "id": "hidden-potter",
   "metadata": {},
   "source": [
    "The CART model beats the logistic regression as it has a 96 % of prediction accuracy rate. In contrast, the logistic regression has 76 percent of predictive accuracy."
   ]
  },
  {
   "cell_type": "code",
   "execution_count": 267,
   "id": "duplicate-rider",
   "metadata": {},
   "outputs": [
    {
     "data": {
      "text/plain": [
       "Area under the curve (AUC): 0.559"
      ]
     },
     "metadata": {},
     "output_type": "display_data"
    },
    {
     "data": {
      "image/png": "[encoded data removed]",
      "text/plain": [
       "Plot with title \"ROC curve\""
      ]
     },
     "metadata": {},
     "output_type": "display_data"
    }
   ],
   "source": [
    "#ROC curve\n",
    "roc.curve(Test$is_promoted, PredictCART)"
   ]
  },
  {
   "cell_type": "markdown",
   "id": "binding-marketing",
   "metadata": {},
   "source": [
    "<b>Random Forest</b>\n",
    "\n",
    "This method is similar to CART. I use the technique because the Random Forest improves the accuracy of predictions. It builds a large number of trees. However, the Random Forest method is considered to be less interpretable than the CART. To predict a new observation, each tree in the forest votes on the outcome and picks the outcome that receives the majority of votes. For instance, if we run the CART multiple times, it would create the same tree every time.\n",
    "In contrast, the Random Forest builds many different trees. The Random Forest allows trees to split on a random subset of the available independent variables. In other words, the data is used as a training set for each tree is selected randomly by replacement."
   ]
  },
  {
   "cell_type": "markdown",
   "id": "structured-dining",
   "metadata": {},
   "source": [
    "Create a random forest model with a training set and predict the values of the test set data."
   ]
  },
  {
   "cell_type": "code",
   "execution_count": 268,
   "id": "specialized-panama",
   "metadata": {},
   "outputs": [],
   "source": [
    "rf = randomForest(formula = is_promoted ~ age + previous_year_rating +awards_won + \n",
    "                     avg_training_score + genderm + educationBelow_Secondary+education_Bachelor + educationMaster_above + \n",
    "                     departmentAnalytics+department_SM + departmentFinance + departmentHR + departmentLegal + \n",
    "                     departmentOperations + departmentOperations + departmentProcurement + department_RD + \n",
    "                     departmentTechnology + recruitment_channelother + recruitment_channelreferred + recruitment_channelsourcing,\n",
    "                  data = Train, ntree=200, nodesize=25)\n"
   ]
  },
  {
   "cell_type": "markdown",
   "id": "civilian-orbit",
   "metadata": {},
   "source": [
    "The randomForest function does not have a method argument; that is why I need to ensure that the outcome variable is a factor when doing a classification problem. Here, I convert the is_promoted variable in both training and testing sets into a factor variable."
   ]
  },
  {
   "cell_type": "code",
   "execution_count": 269,
   "id": "middle-deadline",
   "metadata": {},
   "outputs": [],
   "source": [
    "# Convert outcome to factor\n",
    "Train$is_promoted = as.factor(Train$is_promoted)\n",
    "Test$is_promoted = as.factor(Test$is_promoted)"
   ]
  },
  {
   "cell_type": "markdown",
   "id": "animal-martin",
   "metadata": {},
   "source": [
    "Here, I make predictions on Test set by using the random forest model rf."
   ]
  },
  {
   "cell_type": "code",
   "execution_count": 270,
   "id": "pediatric-lightweight",
   "metadata": {},
   "outputs": [],
   "source": [
    "# Make predictions\n",
    "PredictForest = predict(rf, newdata = Test)"
   ]
  },
  {
   "cell_type": "markdown",
   "id": "alleged-bennett",
   "metadata": {},
   "source": [
    "Below, I build a confusion matrix to compute the accuracy of predictions."
   ]
  },
  {
   "cell_type": "code",
   "execution_count": 271,
   "id": "funded-cooking",
   "metadata": {},
   "outputs": [
    {
     "data": {
      "text/plain": [
       "   PredictForest\n",
       "        0     1\n",
       "  0 11960     6\n",
       "  1   853   261"
      ]
     },
     "metadata": {},
     "output_type": "display_data"
    }
   ],
   "source": [
    "#Confusion matrix\n",
    "table(Test$is_promoted, PredictForest)"
   ]
  },
  {
   "cell_type": "code",
   "execution_count": 272,
   "id": "vietnamese-consumption",
   "metadata": {},
   "outputs": [
    {
     "data": {
      "text/html": [
       "0.93"
      ],
      "text/latex": [
       "0.93"
      ],
      "text/markdown": [
       "0.93"
      ],
      "text/plain": [
       "[1] 0.93"
      ]
     },
     "metadata": {},
     "output_type": "display_data"
    }
   ],
   "source": [
    "#Accuracy rate\n",
    "round((7702+177)/(7702+21+548+177),2)"
   ]
  },
  {
   "cell_type": "markdown",
   "id": "bibliographic-harbor",
   "metadata": {},
   "source": [
    "The predictive accuracy rate of the Random Forest model is 93 %. In this particular case, the Random Forest performed the same as the CART model as they both have a 93 % accuracy rate."
   ]
  },
  {
   "cell_type": "code",
   "execution_count": 273,
   "id": "authentic-display",
   "metadata": {},
   "outputs": [
    {
     "data": {
      "text/html": [
       "<table>\n",
       "<caption>A data.frame: 20 × 1</caption>\n",
       "<thead>\n",
       "\t<tr><th></th><th scope=col>Overall</th></tr>\n",
       "\t<tr><th></th><th scope=col>&lt;dbl&gt;</th></tr>\n",
       "</thead>\n",
       "<tbody>\n",
       "\t<tr><th scope=row>age</th><td> 81.040870</td></tr>\n",
       "\t<tr><th scope=row>previous_year_rating</th><td>157.830885</td></tr>\n",
       "\t<tr><th scope=row>awards_won</th><td>149.482740</td></tr>\n",
       "\t<tr><th scope=row>avg_training_score</th><td>891.893576</td></tr>\n",
       "\t<tr><th scope=row>genderm</th><td> 16.474848</td></tr>\n",
       "\t<tr><th scope=row>educationBelow_Secondary</th><td>  1.930083</td></tr>\n",
       "\t<tr><th scope=row>education_Bachelor</th><td>  8.253501</td></tr>\n",
       "\t<tr><th scope=row>educationMaster_above</th><td>  9.005288</td></tr>\n",
       "\t<tr><th scope=row>departmentAnalytics</th><td> 38.434930</td></tr>\n",
       "\t<tr><th scope=row>department_SM</th><td> 98.139091</td></tr>\n",
       "\t<tr><th scope=row>departmentFinance</th><td> 22.509481</td></tr>\n",
       "\t<tr><th scope=row>departmentHR</th><td> 11.414079</td></tr>\n",
       "\t<tr><th scope=row>departmentLegal</th><td>  7.484992</td></tr>\n",
       "\t<tr><th scope=row>departmentOperations</th><td> 65.327162</td></tr>\n",
       "\t<tr><th scope=row>departmentProcurement</th><td> 25.355129</td></tr>\n",
       "\t<tr><th scope=row>department_RD</th><td> 19.308190</td></tr>\n",
       "\t<tr><th scope=row>departmentTechnology</th><td> 26.395865</td></tr>\n",
       "\t<tr><th scope=row>recruitment_channelother</th><td>  8.405877</td></tr>\n",
       "\t<tr><th scope=row>recruitment_channelreferred</th><td>  9.291676</td></tr>\n",
       "\t<tr><th scope=row>recruitment_channelsourcing</th><td>  9.070404</td></tr>\n",
       "</tbody>\n",
       "</table>\n"
      ],
      "text/latex": [
       "A data.frame: 20 × 1\n",
       "\\begin{tabular}{r|l}\n",
       "  & Overall\\\\\n",
       "  & <dbl>\\\\\n",
       "\\hline\n",
       "\tage &  81.040870\\\\\n",
       "\tprevious\\_year\\_rating & 157.830885\\\\\n",
       "\tawards\\_won & 149.482740\\\\\n",
       "\tavg\\_training\\_score & 891.893576\\\\\n",
       "\tgenderm &  16.474848\\\\\n",
       "\teducationBelow\\_Secondary &   1.930083\\\\\n",
       "\teducation\\_Bachelor &   8.253501\\\\\n",
       "\teducationMaster\\_above &   9.005288\\\\\n",
       "\tdepartmentAnalytics &  38.434930\\\\\n",
       "\tdepartment\\_SM &  98.139091\\\\\n",
       "\tdepartmentFinance &  22.509481\\\\\n",
       "\tdepartmentHR &  11.414079\\\\\n",
       "\tdepartmentLegal &   7.484992\\\\\n",
       "\tdepartmentOperations &  65.327162\\\\\n",
       "\tdepartmentProcurement &  25.355129\\\\\n",
       "\tdepartment\\_RD &  19.308190\\\\\n",
       "\tdepartmentTechnology &  26.395865\\\\\n",
       "\trecruitment\\_channelother &   8.405877\\\\\n",
       "\trecruitment\\_channelreferred &   9.291676\\\\\n",
       "\trecruitment\\_channelsourcing &   9.070404\\\\\n",
       "\\end{tabular}\n"
      ],
      "text/markdown": [
       "\n",
       "A data.frame: 20 × 1\n",
       "\n",
       "| <!--/--> | Overall &lt;dbl&gt; |\n",
       "|---|---|\n",
       "| age |  81.040870 |\n",
       "| previous_year_rating | 157.830885 |\n",
       "| awards_won | 149.482740 |\n",
       "| avg_training_score | 891.893576 |\n",
       "| genderm |  16.474848 |\n",
       "| educationBelow_Secondary |   1.930083 |\n",
       "| education_Bachelor |   8.253501 |\n",
       "| educationMaster_above |   9.005288 |\n",
       "| departmentAnalytics |  38.434930 |\n",
       "| department_SM |  98.139091 |\n",
       "| departmentFinance |  22.509481 |\n",
       "| departmentHR |  11.414079 |\n",
       "| departmentLegal |   7.484992 |\n",
       "| departmentOperations |  65.327162 |\n",
       "| departmentProcurement |  25.355129 |\n",
       "| department_RD |  19.308190 |\n",
       "| departmentTechnology |  26.395865 |\n",
       "| recruitment_channelother |   8.405877 |\n",
       "| recruitment_channelreferred |   9.291676 |\n",
       "| recruitment_channelsourcing |   9.070404 |\n",
       "\n"
      ],
      "text/plain": [
       "                            Overall   \n",
       "age                          81.040870\n",
       "previous_year_rating        157.830885\n",
       "awards_won                  149.482740\n",
       "avg_training_score          891.893576\n",
       "genderm                      16.474848\n",
       "educationBelow_Secondary      1.930083\n",
       "education_Bachelor            8.253501\n",
       "educationMaster_above         9.005288\n",
       "departmentAnalytics          38.434930\n",
       "department_SM                98.139091\n",
       "departmentFinance            22.509481\n",
       "departmentHR                 11.414079\n",
       "departmentLegal               7.484992\n",
       "departmentOperations         65.327162\n",
       "departmentProcurement        25.355129\n",
       "department_RD                19.308190\n",
       "departmentTechnology         26.395865\n",
       "recruitment_channelother      8.405877\n",
       "recruitment_channelreferred   9.291676\n",
       "recruitment_channelsourcing   9.070404"
      ]
     },
     "metadata": {},
     "output_type": "display_data"
    }
   ],
   "source": [
    "# Variable Importance\n",
    "varImp(rf)"
   ]
  },
  {
   "cell_type": "code",
   "execution_count": 274,
   "id": "sublime-connectivity",
   "metadata": {},
   "outputs": [
    {
     "data": {
      "image/png": "[encoded data removed]",
      "text/plain": [
       "Plot with title \"rf\""
      ]
     },
     "metadata": {},
     "output_type": "display_data"
    }
   ],
   "source": [
    "# Variable Importance Plot\n",
    "varImpPlot(rf,type=2)\n"
   ]
  },
  {
   "cell_type": "markdown",
   "id": "robust-toner",
   "metadata": {},
   "source": [
    "## Parsimonous Logit Model"
   ]
  },
  {
   "cell_type": "code",
   "execution_count": 278,
   "id": "hidden-signature",
   "metadata": {},
   "outputs": [],
   "source": [
    "# Logistic Regression Model\n",
    "model_logit_8_reduced <- glm(formula = is_promoted ~ previous_year_rating +awards_won + \n",
    "                     avg_training_score,  data = Train, family = binomial(link = \"logit\"))\n"
   ]
  },
  {
   "cell_type": "code",
   "execution_count": 280,
   "id": "stretch-merchandise",
   "metadata": {},
   "outputs": [],
   "source": [
    "# Make predictions on training set\n",
    "predictTrain = predict(model_logit_8_reduced, type=\"response\")"
   ]
  },
  {
   "cell_type": "code",
   "execution_count": 281,
   "id": "thorough-renewal",
   "metadata": {},
   "outputs": [
    {
     "data": {
      "text/plain": [
       "    Min.  1st Qu.   Median     Mean  3rd Qu.     Max. \n",
       "0.006303 0.032025 0.062366 0.085496 0.108572 0.837889 "
      ]
     },
     "metadata": {},
     "output_type": "display_data"
    }
   ],
   "source": [
    "# Analyze predictions\n",
    "summary(predictTrain)"
   ]
  },
  {
   "cell_type": "code",
   "execution_count": 282,
   "id": "rental-wichita",
   "metadata": {},
   "outputs": [
    {
     "data": {
      "text/html": [
       "<style>\n",
       ".dl-inline {width: auto; margin:0; padding: 0}\n",
       ".dl-inline>dt, .dl-inline>dd {float: none; width: auto; display: inline-block}\n",
       ".dl-inline>dt::after {content: \":\\0020\"; padding-right: .5ex}\n",
       ".dl-inline>dt:not(:first-of-type) {padding-left: .5ex}\n",
       "</style><dl class=dl-inline><dt>0</dt><dd>0.0767347491623258</dd><dt>1</dt><dd>0.179212662848341</dd></dl>\n"
      ],
      "text/latex": [
       "\\begin{description*}\n",
       "\\item[0] 0.0767347491623258\n",
       "\\item[1] 0.179212662848341\n",
       "\\end{description*}\n"
      ],
      "text/markdown": [
       "0\n",
       ":   0.07673474916232581\n",
       ":   0.179212662848341\n",
       "\n"
      ],
      "text/plain": [
       "         0          1 \n",
       "0.07673475 0.17921266 "
      ]
     },
     "metadata": {},
     "output_type": "display_data"
    }
   ],
   "source": [
    "#see whether we are predicting higher probabilities for the actual promotion cases as we expect. Higher prediction prob for no promotion\n",
    "tapply(predictTrain, Train$is_promoted, mean)"
   ]
  },
  {
   "cell_type": "code",
   "execution_count": 287,
   "id": "simple-favorite",
   "metadata": {},
   "outputs": [
    {
     "data": {
      "text/plain": [
       "   \n",
       "    FALSE  TRUE\n",
       "  0 34303    86\n",
       "  1  2993   222"
      ]
     },
     "metadata": {},
     "output_type": "display_data"
    }
   ],
   "source": [
    "# Confusion matrix for threshold of 0.5\n",
    "cm_dt <- table(Train$is_promoted, predictTrain > 0.5)\n",
    "cm_dt"
   ]
  },
  {
   "cell_type": "code",
   "execution_count": 288,
   "id": "seventh-daughter",
   "metadata": {},
   "outputs": [
    {
     "data": {
      "text/html": [
       "0.96"
      ],
      "text/latex": [
       "0.96"
      ],
      "text/markdown": [
       "0.96"
      ],
      "text/plain": [
       "[1] 0.96"
      ]
     },
     "metadata": {},
     "output_type": "display_data"
    }
   ],
   "source": [
    "accuracy_dt = round((cm_dt[1,1] + cm_dt[1,1])/\n",
    "  (cm_dt[1,1] + cm_dt[1,1] + cm_dt[2,1] + cm_dt[1,2]),2)\n",
    "accuracy_dt"
   ]
  },
  {
   "cell_type": "code",
   "execution_count": 285,
   "id": "dedicated-danish",
   "metadata": {},
   "outputs": [
    {
     "data": {
      "text/plain": [
       "   \n",
       "    FALSE  TRUE\n",
       "  0 34375    14\n",
       "  1  3096   119"
      ]
     },
     "metadata": {},
     "output_type": "display_data"
    }
   ],
   "source": [
    "# Confusion matrix for threshold of 0.7\n",
    "cm_dt <- table(Train$is_promoted, predictTrain > 0.7)\n",
    "cm_dt"
   ]
  },
  {
   "cell_type": "code",
   "execution_count": 286,
   "id": "characteristic-aging",
   "metadata": {},
   "outputs": [
    {
     "data": {
      "text/html": [
       "0.96"
      ],
      "text/latex": [
       "0.96"
      ],
      "text/markdown": [
       "0.96"
      ],
      "text/plain": [
       "[1] 0.96"
      ]
     },
     "metadata": {},
     "output_type": "display_data"
    }
   ],
   "source": [
    "accuracy_dt = round((cm_dt[1,1] + cm_dt[1,1])/\n",
    "  (cm_dt[1,1] + cm_dt[1,1] + cm_dt[2,1] + cm_dt[1,2]),2)\n",
    "accuracy_dt"
   ]
  },
  {
   "cell_type": "markdown",
   "id": "through-landing",
   "metadata": {},
   "source": [
    "<b> Cross Validation </b>\n",
    "\n",
    "I will do cross-validation on my CART model, but not on the random forest model. Suppose we believe the random forest algorithm creators. In that case, the model is not sensitive to the parameters. That is why it does not easily overfit the training set.\n",
    "\n",
    "The idea of cross-validation is to build many models. We basically set the number of folds, in other words split the the training set into equal subsets. By doing so, cross-validation builds one model for each fold, this is how we can compute the accuarcy of the model. Moreover, we can use each folds as a validation sets. This allows us to take the averages over the folds to set the final parameter value that we want to use. If the fold parameter is low, it means overfitting to the training set. At the same time, if the parameter is too large, it implies that the model is too simple.\n",
    "\n",
    "In the last part of my analysis, I install the necessary packages and libraries for trying out the cross-validation for my CART model. As a first step, I need to define the cross-validation experiment. For doing so, I define the number of needed folds with the help of trainControl function. Then, I pick the possible values fir my cp parameter by using the expand.grid functions. I start the cross-validation process by exploiting the train function with the Train dataset. This step gives me a table of cross-validation accuracy for different cp parameters. The first column gives the cp parameter that was tested, and the second column gives the cross-validation accuarcy for cp value. The last cp value in the model is 0.18. This is what I will need to create a CART model. First, I build the classification tree with the training dataset. Then, I make predictions on the testing dataset by using this model. Lastly, I create a confusion matrix, which allows me to compute the accuracy rate prediction."
   ]
  },
  {
   "cell_type": "code",
   "execution_count": 275,
   "id": "competitive-delay",
   "metadata": {},
   "outputs": [
    {
     "data": {
      "text/plain": [
       "CART \n",
       "\n",
       "37604 samples\n",
       "   20 predictor\n",
       "    2 classes: '0', '1' \n",
       "\n",
       "No pre-processing\n",
       "Resampling: Cross-Validated (10 fold) \n",
       "Summary of sample sizes: 33843, 33844, 33843, 33844, 33843, 33844, ... \n",
       "Resampling results across tuning parameters:\n",
       "\n",
       "  cp    Accuracy   Kappa     \n",
       "  0.01  0.9239176  0.19794114\n",
       "  0.02  0.9215244  0.17714630\n",
       "  0.03  0.9215244  0.17714630\n",
       "  0.04  0.9215244  0.17714630\n",
       "  0.05  0.9215244  0.17714630\n",
       "  0.06  0.9215244  0.17714630\n",
       "  0.07  0.9215244  0.17714630\n",
       "  0.08  0.9215244  0.17714630\n",
       "  0.09  0.9163388  0.04929464\n",
       "  0.10  0.9145038  0.00000000\n",
       "  0.11  0.9145038  0.00000000\n",
       "  0.12  0.9145038  0.00000000\n",
       "  0.13  0.9145038  0.00000000\n",
       "  0.14  0.9145038  0.00000000\n",
       "  0.15  0.9145038  0.00000000\n",
       "  0.16  0.9145038  0.00000000\n",
       "  0.17  0.9145038  0.00000000\n",
       "  0.18  0.9145038  0.00000000\n",
       "  0.19  0.9145038  0.00000000\n",
       "  0.20  0.9145038  0.00000000\n",
       "  0.21  0.9145038  0.00000000\n",
       "  0.22  0.9145038  0.00000000\n",
       "  0.23  0.9145038  0.00000000\n",
       "  0.24  0.9145038  0.00000000\n",
       "  0.25  0.9145038  0.00000000\n",
       "  0.26  0.9145038  0.00000000\n",
       "  0.27  0.9145038  0.00000000\n",
       "  0.28  0.9145038  0.00000000\n",
       "  0.29  0.9145038  0.00000000\n",
       "  0.30  0.9145038  0.00000000\n",
       "  0.31  0.9145038  0.00000000\n",
       "  0.32  0.9145038  0.00000000\n",
       "  0.33  0.9145038  0.00000000\n",
       "  0.34  0.9145038  0.00000000\n",
       "  0.35  0.9145038  0.00000000\n",
       "  0.36  0.9145038  0.00000000\n",
       "  0.37  0.9145038  0.00000000\n",
       "  0.38  0.9145038  0.00000000\n",
       "  0.39  0.9145038  0.00000000\n",
       "  0.40  0.9145038  0.00000000\n",
       "  0.41  0.9145038  0.00000000\n",
       "  0.42  0.9145038  0.00000000\n",
       "  0.43  0.9145038  0.00000000\n",
       "  0.44  0.9145038  0.00000000\n",
       "  0.45  0.9145038  0.00000000\n",
       "  0.46  0.9145038  0.00000000\n",
       "  0.47  0.9145038  0.00000000\n",
       "  0.48  0.9145038  0.00000000\n",
       "  0.49  0.9145038  0.00000000\n",
       "  0.50  0.9145038  0.00000000\n",
       "\n",
       "Accuracy was used to select the optimal model using the largest value.\n",
       "The final value used for the model was cp = 0.01."
      ]
     },
     "metadata": {},
     "output_type": "display_data"
    }
   ],
   "source": [
    "# Install cross-validation packages\n",
    "library(caret)\n",
    "library(e1071)\n",
    "\n",
    "# Define cross-validation experiment\n",
    "numFolds = trainControl( method = \"cv\", number = 10 )\n",
    "# poddible for our cp parameter\n",
    "cpGrid = expand.grid( .cp = seq(0.01,0.5,0.01)) # this will define the cp parameters to test as numbers from 0.01 to 0.5, in increments of 0.01\n",
    "\n",
    "# Perform the cross validation\n",
    "train(is_promoted ~ age + previous_year_rating +awards_won + \n",
    "                     avg_training_score + genderm + educationBelow_Secondary+education_Bachelor + educationMaster_above + \n",
    "                     departmentAnalytics+department_SM + departmentFinance + departmentHR + departmentLegal + \n",
    "                     departmentOperations + departmentOperations + departmentProcurement + department_RD + \n",
    "                     departmentTechnology + recruitment_channelother + recruitment_channelreferred + recruitment_channelsourcing, data = Train, method = \"rpart\", trControl = numFolds, tuneGrid = cpGrid )"
   ]
  },
  {
   "cell_type": "code",
   "execution_count": 276,
   "id": "scheduled-tours",
   "metadata": {},
   "outputs": [
    {
     "data": {
      "text/plain": [
       "   PredictCV\n",
       "        0     1\n",
       "  0 11950    16\n",
       "  1   982   132"
      ]
     },
     "metadata": {},
     "output_type": "display_data"
    }
   ],
   "source": [
    "# Create a new CART model\n",
    "TreeCV = rpart(is_promoted ~ age + previous_year_rating +awards_won + \n",
    "                     avg_training_score + genderm + educationBelow_Secondary+education_Bachelor + educationMaster_above + \n",
    "                     departmentAnalytics+department_SM + departmentFinance + departmentHR + departmentLegal + \n",
    "                     departmentOperations + departmentOperations + departmentProcurement + department_RD + \n",
    "                     departmentTechnology + recruitment_channelother + recruitment_channelreferred + recruitment_channelsourcing,  \n",
    "               data = Train, method=\"class\", cp = 0.01)\n",
    "\n",
    "# Make predictions\n",
    "PredictCV = predict(TreeCV, newdata = Test, type = \"class\")\n",
    "\n",
    "cm_dt <- table(Test$is_promoted, PredictCV)\n",
    "cm_dt"
   ]
  },
  {
   "cell_type": "code",
   "execution_count": 277,
   "id": "dedicated-coaching",
   "metadata": {
    "scrolled": true
   },
   "outputs": [
    {
     "data": {
      "text/html": [
       "0.96"
      ],
      "text/latex": [
       "0.96"
      ],
      "text/markdown": [
       "0.96"
      ],
      "text/plain": [
       "[1] 0.96"
      ]
     },
     "metadata": {},
     "output_type": "display_data"
    }
   ],
   "source": [
    "accuracy_dt = round((cm_dt[1,1] + cm_dt[1,1])/\n",
    "  (cm_dt[1,1] + cm_dt[1,1] + cm_dt[2,1] + cm_dt[1,2]),2)\n",
    "accuracy_dt"
   ]
  },
  {
   "cell_type": "markdown",
   "id": "political-membrane",
   "metadata": {},
   "source": [
    "# Conclusion"
   ]
  },
  {
   "cell_type": "markdown",
   "id": "alternate-satin",
   "metadata": {},
   "source": [
    "# References"
   ]
  },
  {
   "cell_type": "markdown",
   "id": "legitimate-exhibition",
   "metadata": {},
   "source": []
  }
 ],
 "metadata": {
  "kernelspec": {
   "display_name": "R",
   "language": "R",
   "name": "ir"
  },
  "language_info": {
   "codemirror_mode": "r",
   "file_extension": ".r",
   "mimetype": "text/x-r-source",
   "name": "R",
   "pygments_lexer": "r",
   "version": "3.6.1"
  }
 },
 "nbformat": 4,
 "nbformat_minor": 5
}
